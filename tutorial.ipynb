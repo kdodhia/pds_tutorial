{
 "cells": [
  {
   "cell_type": "markdown",
   "metadata": {},
   "source": [
    "#  Tutorial: Building Recommendation engines with Graphlab"
   ]
  },
  {
   "cell_type": "markdown",
   "metadata": {},
   "source": [
    "In this tutorial we will be building movie recommendation engines using GraphLab. GraphLab is a parallel framework for machine learning developed here at CMU. It has a set of libraries for data transformation, manipulation and visualization.\n",
    "\n",
    "Some benefits of using GraphLab:\n",
    " - Can handle large datasets\n",
    " - GraphLab Canvas allows easy data exporation and visualization\n",
    " - Supports various data sources (JSON, CSV, DB, s3 etc.)\n",
    " - Easy capability to create features to enhance model performance \n",
    " \n",
    "In this tutorial, we will walk through the steps to create a movie recommendation engine based on amazon movie review data. We will be exploring multiple approaches and methods to generate recommendations using various features and functions in GraphLab. I have included screenshots of any important output in case you are unable to run any of the cells."
   ]
  },
  {
   "cell_type": "markdown",
   "metadata": {},
   "source": [
    "## Installing the Libraries\n",
    "\n",
    "In order to use graphlab, you should first create a new anaconda environment with Python 2.7.x\n",
    "\n",
    " $ conda create -n py27 python=2.7 anaconda=4.0.0\n",
    "\n",
    "Graphlab is free to use for 1 year for acedemic use. You can register for a free trial using the following link: https://turi.com/download/academic.html. You should recieve a product key. You can now install your licensed copy of GraphLab Create using pip in the anaconda environment you just created.\n",
    "\n",
    " $ pip install --upgrade --no-cache-dir https://get.graphlab.com/GraphLab-Create/2.1/registered_email_address/product_key/GraphLab-Create-License.tar.gz\n",
    "    \n",
    "Now that Graphlab has been installed, make sure the following command works for you:"
   ]
  },
  {
   "cell_type": "code",
   "execution_count": 1,
   "metadata": {
    "collapsed": false
   },
   "outputs": [
    {
     "name": "stderr",
     "output_type": "stream",
     "text": [
      "[INFO] graphlab.cython.cy_server: GraphLab Create v2.1 started. Logging: /tmp/graphlab_server_1522536551.log\n"
     ]
    },
    {
     "name": "stdout",
     "output_type": "stream",
     "text": [
      "This non-commercial license of GraphLab Create for academic use is assigned to kdodhia@andrew.cmu.edu and will expire on March 28, 2019.\n"
     ]
    }
   ],
   "source": [
    "import graphlab as gl\n",
    "import os.path\n",
    "import json\n",
    "import csv\n",
    "import ast\n",
    "from exceptions import ValueError\n",
    "from time import sleep\n",
    "from lxml import html \n",
    "import requests"
   ]
  },
  {
   "cell_type": "markdown",
   "metadata": {},
   "source": [
    "## Loading the data \n",
    "\n",
    "Now that we've installed and loaded the libraries, let's load some movie review data to build our recommendation engine. We are going to load data in json format. Download the 5-core Movies and TV dataset from http://jmcauley.ucsd.edu/data/amazon/, which contains reviews and metadata from Amazon for Movies and TV shows. Then unzip the reviews_Movies_and_TV_5.json.gz file to create the reviews_Movies_and_TV_5.json file, which you should move to this directory (the smae folder as this notebook).\n",
    "\n",
    "If you open the reviews_Movies_and_TV_5.json file, you will see that each line is in its own individual dictionary format, and is not connected to the rest of the lines. Thus a simple json.loads(fname) or Sframe.read_json(fname) will not work. Instead, we will need to loop through each line and process it individually. In order to make our lives much easier, before loading the data into an SFrame we will first load data from the json file into a csv file and save this. After the first run, we can directly use the csv file we previously created without doing any other processing. "
   ]
  },
  {
   "cell_type": "code",
   "execution_count": 2,
   "metadata": {
    "collapsed": false
   },
   "outputs": [
    {
     "data": {
      "text/html": [
       "<pre>Unable to parse line \"A1YG3VSL2FKSEA,0767821599,\"[0, 1]\",\"This movie will keep you on the edge of your seat the whole time. Brad Renfroe does an excellent job in this movie. In my opinion is a definate \"\"Must See\"\"!\",5.0,Seller Feedback - Purchased Through Amazon,1305849600,\"05...\"</pre>"
      ],
      "text/plain": [
       "Unable to parse line \"A1YG3VSL2FKSEA,0767821599,\"[0, 1]\",\"This movie will keep you on the edge of your seat the whole time. Brad Renfroe does an excellent job in this movie. In my opinion is a definate \"\"Must See\"\"!\",5.0,Seller Feedback - Purchased Through Amazon,1305849600,\"05...\""
      ]
     },
     "metadata": {},
     "output_type": "display_data"
    },
    {
     "data": {
      "text/html": [
       "<pre>Unable to parse line \"A3SB26W49Q0USW,0767821599,\"[0, 1]\",\"WOW!  What a wonderful opportunity to experience some \"\"transferance fantasy\"\" moments.  Strangely enough, I am a Jewish Senior Citizen who kept finding myself inside all of the main parts in this film.  It was BIZARRE!!...\"</pre>"
      ],
      "text/plain": [
       "Unable to parse line \"A3SB26W49Q0USW,0767821599,\"[0, 1]\",\"WOW!  What a wonderful opportunity to experience some \"\"transferance fantasy\"\" moments.  Strangely enough, I am a Jewish Senior Citizen who kept finding myself inside all of the main parts in this film.  It was BIZARRE!!...\""
      ]
     },
     "metadata": {},
     "output_type": "display_data"
    },
    {
     "data": {
      "text/html": [
       "<pre>Unable to parse line \"A11XKY4EIU2KNR,0767821599,\"[0, 2]\",\"As usual, it seems like the director never reads the book. We all rented this and were disappointed up to the end. Where was the famous scene where the boy shoots at passing cars on the highway? The metal band Anthrax kn...\"</pre>"
      ],
      "text/plain": [
       "Unable to parse line \"A11XKY4EIU2KNR,0767821599,\"[0, 2]\",\"As usual, it seems like the director never reads the book. We all rented this and were disappointed up to the end. Where was the famous scene where the boy shoots at passing cars on the highway? The metal band Anthrax kn...\""
      ]
     },
     "metadata": {},
     "output_type": "display_data"
    },
    {
     "data": {
      "text/html": [
       "<pre>Unable to parse line \"A2ONGY8318SUN2,0767821599,\"[0, 2]\",\"This movie is okay, but, its not worth what they're charging so just rent  it. You'll most likely have no desire to see it again. The only good part  is the naked locker room scene with the jocks.\",2.0,RENT DON'T BUY,968...\"</pre>"
      ],
      "text/plain": [
       "Unable to parse line \"A2ONGY8318SUN2,0767821599,\"[0, 2]\",\"This movie is okay, but, its not worth what they're charging so just rent  it. You'll most likely have no desire to see it again. The only good part  is the naked locker room scene with the jocks.\",2.0,RENT DON'T BUY,968...\""
      ]
     },
     "metadata": {},
     "output_type": "display_data"
    },
    {
     "data": {
      "text/html": [
       "<pre>Unable to parse line \"A16HM5IJDLDQOP,0767821599,\"[0, 3]\",\"With the ending of this the first time I saw it after I checked it out at the library because there was a song by the heavy metal band Anthrax that kept more to the original story from Stephen King where he told the endi...\"</pre>"
      ],
      "text/plain": [
       "Unable to parse line \"A16HM5IJDLDQOP,0767821599,\"[0, 3]\",\"With the ending of this the first time I saw it after I checked it out at the library because there was a song by the heavy metal band Anthrax that kept more to the original story from Stephen King where he told the endi...\""
      ]
     },
     "metadata": {},
     "output_type": "display_data"
    },
    {
     "data": {
      "text/html": [
       "<pre>Unable to parse line \"A3D76ATDOKOMKT,0767821599,\"[0, 6]\",\"Someone recommended this book.  I am wondering about him for doing that.  I guess our society has just gotten so used to watching sick, sadisitic things in the media that it doesn't seem that awful. But to someone who do...\"</pre>"
      ],
      "text/plain": [
       "Unable to parse line \"A3D76ATDOKOMKT,0767821599,\"[0, 6]\",\"Someone recommended this book.  I am wondering about him for doing that.  I guess our society has just gotten so used to watching sick, sadisitic things in the media that it doesn't seem that awful. But to someone who do...\""
      ]
     },
     "metadata": {},
     "output_type": "display_data"
    },
    {
     "data": {
      "text/html": [
       "<pre>Unable to parse line \"A2RMQW7RQ2VI6I,0767821599,\"[1, 5]\",\"I loved this short story, and couldn't wait to see the film, but I was more than a little let down by the ending. Still, it's worth seeing for Ian Mckellen's haunting performance as the old Nazi. Give it a shot, if you l...\"</pre>"
      ],
      "text/plain": [
       "Unable to parse line \"A2RMQW7RQ2VI6I,0767821599,\"[1, 5]\",\"I loved this short story, and couldn't wait to see the film, but I was more than a little let down by the ending. Still, it's worth seeing for Ian Mckellen's haunting performance as the old Nazi. Give it a shot, if you l...\""
      ]
     },
     "metadata": {},
     "output_type": "display_data"
    },
    {
     "data": {
      "text/html": [
       "<pre>Unable to parse line \"A2S5CQ07GRC63V,0767821599,\"[1, 5]\",\"McKellern looks surprisingly good in a black Algemeine SS uniform, marching on the spot. Better anyway than in a silly purple helmet as Magneto in X-Men. Perhaps next year we'll get to see him in a tutu or something. One...\"</pre>"
      ],
      "text/plain": [
       "Unable to parse line \"A2S5CQ07GRC63V,0767821599,\"[1, 5]\",\"McKellern looks surprisingly good in a black Algemeine SS uniform, marching on the spot. Better anyway than in a silly purple helmet as Magneto in X-Men. Perhaps next year we'll get to see him in a tutu or something. One...\""
      ]
     },
     "metadata": {},
     "output_type": "display_data"
    },
    {
     "data": {
      "text/html": [
       "<pre>Unable to parse line \"A11OYX9SKS4MYU,0767821599,\"[8, 14]\",\"This film was a dissapointment. The acting and cinematography were fine and all( Sir Ian McKellen, who potrayed a wizened Nazi criminal, did so  beautifully ), but as far as the story goes, it was pretty weak. Maybe I  ...\"</pre>"
      ],
      "text/plain": [
       "Unable to parse line \"A11OYX9SKS4MYU,0767821599,\"[8, 14]\",\"This film was a dissapointment. The acting and cinematography were fine and all( Sir Ian McKellen, who potrayed a wizened Nazi criminal, did so  beautifully ), but as far as the story goes, it was pretty weak. Maybe I  ...\""
      ]
     },
     "metadata": {},
     "output_type": "display_data"
    },
    {
     "data": {
      "text/html": [
       "<pre>Unable to parse line \"A3JCKCPZHK4CZP,0767821637,\"[0, 1]\",\"I first saw \"\"La Bamba\"\" via YouTube and it was all in spanish accept for the singing parts. Then I saw it again recently on cable TV and recorded it and I thought it was va really good movie the second time I watched it...\"</pre>"
      ],
      "text/plain": [
       "Unable to parse line \"A3JCKCPZHK4CZP,0767821637,\"[0, 1]\",\"I first saw \"\"La Bamba\"\" via YouTube and it was all in spanish accept for the singing parts. Then I saw it again recently on cable TV and recorded it and I thought it was va really good movie the second time I watched it...\""
      ]
     },
     "metadata": {},
     "output_type": "display_data"
    },
    {
     "data": {
      "text/html": [
       "<pre>Read 46966 lines. Lines per second: 44350.6</pre>"
      ],
      "text/plain": [
       "Read 46966 lines. Lines per second: 44350.6"
      ]
     },
     "metadata": {},
     "output_type": "display_data"
    },
    {
     "data": {
      "text/html": [
       "<pre>Read 440652 lines. Lines per second: 67981.6</pre>"
      ],
      "text/plain": [
       "Read 440652 lines. Lines per second: 67981.6"
      ]
     },
     "metadata": {},
     "output_type": "display_data"
    },
    {
     "data": {
      "text/html": [
       "<pre>Read 796128 lines. Lines per second: 66863.9</pre>"
      ],
      "text/plain": [
       "Read 796128 lines. Lines per second: 66863.9"
      ]
     },
     "metadata": {},
     "output_type": "display_data"
    },
    {
     "data": {
      "text/html": [
       "<pre>Read 1169550 lines. Lines per second: 67353.1</pre>"
      ],
      "text/plain": [
       "Read 1169550 lines. Lines per second: 67353.1"
      ]
     },
     "metadata": {},
     "output_type": "display_data"
    },
    {
     "data": {
      "text/html": [
       "<pre>Read 1651547 lines. Lines per second: 72407.9</pre>"
      ],
      "text/plain": [
       "Read 1651547 lines. Lines per second: 72407.9"
      ]
     },
     "metadata": {},
     "output_type": "display_data"
    },
    {
     "data": {
      "text/html": [
       "<pre>6127 lines failed to parse correctly</pre>"
      ],
      "text/plain": [
       "6127 lines failed to parse correctly"
      ]
     },
     "metadata": {},
     "output_type": "display_data"
    },
    {
     "data": {
      "text/html": [
       "<pre>Finished parsing file /Users/kevan/Desktop/practical_data_science/tutorial/reviews_Movies_and_TV_5.csv</pre>"
      ],
      "text/plain": [
       "Finished parsing file /Users/kevan/Desktop/practical_data_science/tutorial/reviews_Movies_and_TV_5.csv"
      ]
     },
     "metadata": {},
     "output_type": "display_data"
    },
    {
     "data": {
      "text/html": [
       "<pre>Parsing completed. Parsed 1691416 lines in 23.2764 secs.</pre>"
      ],
      "text/plain": [
       "Parsing completed. Parsed 1691416 lines in 23.2764 secs."
      ]
     },
     "metadata": {},
     "output_type": "display_data"
    }
   ],
   "source": [
    "json_fname = 'reviews_Movies_and_TV_5.json'\n",
    "csv_fname = 'reviews_Movies_and_TV_5.csv'\n",
    "if (not os.path.isfile(csv_fname)):\n",
    "    json = open(json_fname, \"r\")\n",
    "    csv_file = open(csv_fname, 'w')\n",
    "    csvwriter = csv.writer(csv_file)\n",
    "    count = 0\n",
    "    for row in json:\n",
    "        data = ast.literal_eval(row)\n",
    "        if (count == 0):\n",
    "            csvwriter.writerow(data.keys())\n",
    "        csvwriter.writerow(data.values())\n",
    "        count+=1\n",
    "        \n",
    "    json.close()\n",
    "    csv_file.close()\n",
    "    \n",
    "reviews = gl.SFrame.read_csv(csv_fname, column_type_hints=[str,str,str,str,str,int,str,int,str])"
   ]
  },
  {
   "cell_type": "markdown",
   "metadata": {},
   "source": [
    "At this point, we should remove movies that have been rated fewer than 5 times as these are likely to behave unpredictably."
   ]
  },
  {
   "cell_type": "code",
   "execution_count": 4,
   "metadata": {
    "collapsed": false
   },
   "outputs": [],
   "source": [
    "rare_movies = reviews.groupby('asin', gl.aggregate.COUNT) #group by asin value\n",
    "rare_movies = rare_movies.sort('Count') #sort by count\n",
    "rare_movies = rare_movies[rare_movies.apply(lambda x: x['Count'] <= 5)] \n",
    "reviews = reviews.filter_by(rare_movies['asin'], 'asin', exclude = True)"
   ]
  },
  {
   "cell_type": "code",
   "execution_count": 5,
   "metadata": {
    "collapsed": false
   },
   "outputs": [
    {
     "data": {
      "text/html": [
       "<div style=\"max-height:1000px;max-width:1500px;overflow:auto;\"><table frame=\"box\" rules=\"cols\">\n",
       "    <tr>\n",
       "        <th style=\"padding-left: 1em; padding-right: 1em; text-align: center\">reviewerID</th>\n",
       "        <th style=\"padding-left: 1em; padding-right: 1em; text-align: center\">asin</th>\n",
       "        <th style=\"padding-left: 1em; padding-right: 1em; text-align: center\">reviewerName</th>\n",
       "        <th style=\"padding-left: 1em; padding-right: 1em; text-align: center\">helpful</th>\n",
       "        <th style=\"padding-left: 1em; padding-right: 1em; text-align: center\">reviewText</th>\n",
       "        <th style=\"padding-left: 1em; padding-right: 1em; text-align: center\">overall</th>\n",
       "    </tr>\n",
       "    <tr>\n",
       "        <td style=\"padding-left: 1em; padding-right: 1em; text-align: center; vertical-align: top\">ADZPIG9QOCDG5</td>\n",
       "        <td style=\"padding-left: 1em; padding-right: 1em; text-align: center; vertical-align: top\">0005019281</td>\n",
       "        <td style=\"padding-left: 1em; padding-right: 1em; text-align: center; vertical-align: top\">Alice L. Larson \"alice-<br>loves-books\" ...</td>\n",
       "        <td style=\"padding-left: 1em; padding-right: 1em; text-align: center; vertical-align: top\">[0, 0]</td>\n",
       "        <td style=\"padding-left: 1em; padding-right: 1em; text-align: center; vertical-align: top\">This is a charming<br>version of the classic ...</td>\n",
       "        <td style=\"padding-left: 1em; padding-right: 1em; text-align: center; vertical-align: top\">4</td>\n",
       "    </tr>\n",
       "    <tr>\n",
       "        <td style=\"padding-left: 1em; padding-right: 1em; text-align: center; vertical-align: top\">A35947ZP82G7JH</td>\n",
       "        <td style=\"padding-left: 1em; padding-right: 1em; text-align: center; vertical-align: top\">0005019281</td>\n",
       "        <td style=\"padding-left: 1em; padding-right: 1em; text-align: center; vertical-align: top\">Amarah Strack</td>\n",
       "        <td style=\"padding-left: 1em; padding-right: 1em; text-align: center; vertical-align: top\">[0, 0]</td>\n",
       "        <td style=\"padding-left: 1em; padding-right: 1em; text-align: center; vertical-align: top\">It was good but not as<br>emotionally moving as ...</td>\n",
       "        <td style=\"padding-left: 1em; padding-right: 1em; text-align: center; vertical-align: top\">3</td>\n",
       "    </tr>\n",
       "    <tr>\n",
       "        <td style=\"padding-left: 1em; padding-right: 1em; text-align: center; vertical-align: top\">A3UORV8A9D5L2E</td>\n",
       "        <td style=\"padding-left: 1em; padding-right: 1em; text-align: center; vertical-align: top\">0005019281</td>\n",
       "        <td style=\"padding-left: 1em; padding-right: 1em; text-align: center; vertical-align: top\">Amazon Customer</td>\n",
       "        <td style=\"padding-left: 1em; padding-right: 1em; text-align: center; vertical-align: top\">[0, 0]</td>\n",
       "        <td style=\"padding-left: 1em; padding-right: 1em; text-align: center; vertical-align: top\">Don't get me wrong,<br>Winkler is a wonderful ...</td>\n",
       "        <td style=\"padding-left: 1em; padding-right: 1em; text-align: center; vertical-align: top\">3</td>\n",
       "    </tr>\n",
       "</table>\n",
       "<table frame=\"box\" rules=\"cols\">\n",
       "    <tr>\n",
       "        <th style=\"padding-left: 1em; padding-right: 1em; text-align: center\">summary</th>\n",
       "        <th style=\"padding-left: 1em; padding-right: 1em; text-align: center\">unixReviewTime</th>\n",
       "        <th style=\"padding-left: 1em; padding-right: 1em; text-align: center\">reviewTime</th>\n",
       "    </tr>\n",
       "    <tr>\n",
       "        <td style=\"padding-left: 1em; padding-right: 1em; text-align: center; vertical-align: top\">good version of a classic</td>\n",
       "        <td style=\"padding-left: 1em; padding-right: 1em; text-align: center; vertical-align: top\">1203984000</td>\n",
       "        <td style=\"padding-left: 1em; padding-right: 1em; text-align: center; vertical-align: top\">02 26, 2008</td>\n",
       "    </tr>\n",
       "    <tr>\n",
       "        <td style=\"padding-left: 1em; padding-right: 1em; text-align: center; vertical-align: top\">Good but not as moving</td>\n",
       "        <td style=\"padding-left: 1em; padding-right: 1em; text-align: center; vertical-align: top\">1388361600</td>\n",
       "        <td style=\"padding-left: 1em; padding-right: 1em; text-align: center; vertical-align: top\">12 30, 2013</td>\n",
       "    </tr>\n",
       "    <tr>\n",
       "        <td style=\"padding-left: 1em; padding-right: 1em; text-align: center; vertical-align: top\">Winkler's Performance was<br>ok at best! ...</td>\n",
       "        <td style=\"padding-left: 1em; padding-right: 1em; text-align: center; vertical-align: top\">1388361600</td>\n",
       "        <td style=\"padding-left: 1em; padding-right: 1em; text-align: center; vertical-align: top\">12 30, 2013</td>\n",
       "    </tr>\n",
       "</table>\n",
       "[3 rows x 9 columns]<br/>\n",
       "</div>"
      ],
      "text/plain": [
       "Columns:\n",
       "\treviewerID\tstr\n",
       "\tasin\tstr\n",
       "\treviewerName\tstr\n",
       "\thelpful\tstr\n",
       "\treviewText\tstr\n",
       "\toverall\tint\n",
       "\tsummary\tstr\n",
       "\tunixReviewTime\tint\n",
       "\treviewTime\tstr\n",
       "\n",
       "Rows: 3\n",
       "\n",
       "Data:\n",
       "+----------------+------------+-------------------------------+---------+\n",
       "|   reviewerID   |    asin    |          reviewerName         | helpful |\n",
       "+----------------+------------+-------------------------------+---------+\n",
       "| ADZPIG9QOCDG5  | 0005019281 | Alice L. Larson \"alice-lov... |  [0, 0] |\n",
       "| A35947ZP82G7JH | 0005019281 |         Amarah Strack         |  [0, 0] |\n",
       "| A3UORV8A9D5L2E | 0005019281 |        Amazon Customer        |  [0, 0] |\n",
       "+----------------+------------+-------------------------------+---------+\n",
       "+-------------------------------+---------+-------------------------------+\n",
       "|           reviewText          | overall |            summary            |\n",
       "+-------------------------------+---------+-------------------------------+\n",
       "| This is a charming version... |    4    |   good version of a classic   |\n",
       "| It was good but not as emo... |    3    |     Good but not as moving    |\n",
       "| Don't get me wrong, Winkle... |    3    | Winkler's Performance was ... |\n",
       "+-------------------------------+---------+-------------------------------+\n",
       "+----------------+-------------+\n",
       "| unixReviewTime |  reviewTime |\n",
       "+----------------+-------------+\n",
       "|   1203984000   | 02 26, 2008 |\n",
       "|   1388361600   | 12 30, 2013 |\n",
       "|   1388361600   | 12 30, 2013 |\n",
       "+----------------+-------------+\n",
       "[3 rows x 9 columns]"
      ]
     },
     "execution_count": 5,
     "metadata": {},
     "output_type": "execute_result"
    }
   ],
   "source": [
    "reviews.head(3)"
   ]
  },
  {
   "cell_type": "markdown",
   "metadata": {},
   "source": [
    "This should yield something like the following:\n",
    "\n",
    "<img src='reviews_head.png'>"
   ]
  },
  {
   "cell_type": "markdown",
   "metadata": {},
   "source": [
    "GraphLab has this exteremely useful feature that allows you to visualize properties and relationships in the data. With just one SFrame.show() command, a GraphLab Canvas will open up in a new window. The Canvas contains three tabs - summary, table and plot."
   ]
  },
  {
   "cell_type": "code",
   "execution_count": 6,
   "metadata": {
    "collapsed": false
   },
   "outputs": [
    {
     "name": "stdout",
     "output_type": "stream",
     "text": [
      "Canvas is updated and available in a tab in the default browser.\n"
     ]
    }
   ],
   "source": [
    "reviews.show()"
   ]
  },
  {
   "cell_type": "markdown",
   "metadata": {},
   "source": [
    "The summary tab gives a summary of the data, variables and columns. It looks like the following:\n",
    "\n",
    "<img src='summary.png'>"
   ]
  },
  {
   "cell_type": "markdown",
   "metadata": {},
   "source": [
    "The Table tab provides an interactive tabular view of the data inside SFrame. It looks like the following:\n",
    "    \n",
    "<img src='table.png'>"
   ]
  },
  {
   "cell_type": "markdown",
   "metadata": {},
   "source": [
    "The Plot tab allows you to plot relationships between the data. It looks like the following:\n",
    "    \n",
    "<img src='plot.png'>"
   ]
  },
  {
   "cell_type": "markdown",
   "metadata": {},
   "source": [
    "#### Side note: Scraping Movie/TV show titles from the Amazon website\n",
    "\n",
    "When looking at the headers in the dataset, you will notice that the dataset does not contain a title field for each item but rather only has an asin value, which is the Amazom product ID for the item. In order to build a recommendation engine, it is useful to have an asin value to title matching. In order to get the titles from the asin field we will need to scape data from the Amazon website. You could use the Amazon Product Advertizement API, however, this requires setting up an account and registering as an Associate (which requires you to have a website). For those that are interested, the code that uses the Amazon Product Advertizement API is as follows:\n",
    "            \n",
    "            \n",
    "            from amazon.api import AmazonAPI\n",
    "            \n",
    "            def get_product_title(asin):\n",
    "                amazon = AmazonAPI(AMAZON_ACCESS_KEY, AMAZON_SECRET_KEY, AMAZON_ASSOC_TAG, region=\"US\")\n",
    "\n",
    "                try:\n",
    "                    product_info = amazon.lookup(ItemId=asin)        \n",
    "                except amazon.api.AsinNotFound:\n",
    "                    print(asin)\n",
    "                    return \"\"\n",
    "\n",
    "                return product_info.title\n",
    "            \n",
    " \n",
    "Below is the code to scape data straight from the amazon website (be careful not to get blocked though!). We will store the data in a json file and will use this later on in the tutorial."
   ]
  },
  {
   "cell_type": "code",
   "execution_count": 6,
   "metadata": {
    "collapsed": true
   },
   "outputs": [],
   "source": [
    "def get_product_title(asin):\n",
    "    url = \"http://www.amazon.com/dp/\"+asin\n",
    "    page = requests.get(url)\n",
    "    try:\n",
    "        doc = html.fromstring(page.content)\n",
    "        xpath_title = '//h1[@id=\"title\"]//text()'\n",
    "        raw_name = doc.xpath(xpath_title)\n",
    "        name = ' '.join(''.join(raw_name).split())\n",
    "    except Exception:\n",
    "        print Exception\n",
    "        name = \"ERROR\"\n",
    "\n",
    "    return name"
   ]
  },
  {
   "cell_type": "code",
   "execution_count": null,
   "metadata": {
    "collapsed": true
   },
   "outputs": [],
   "source": [
    "title_asin_json = 'title_asin.json'\n",
    "def add_title_asin(reviews):\n",
    "    asin_col = reviews.select_column('asin')\n",
    "    scapped_data  = {}\n",
    "    if (os.path.isfile(title_asin_json)):\n",
    "        scapped_data = json.load(open(title_asin_json))\n",
    "    count = 1\n",
    "    for key in asin_col:\n",
    "        if ((key not in scapped_data) or ((key in scapped_data) and (scapped_data[key] == \"\"))):\n",
    "            name = get_product_title(key)\n",
    "            scapped_data[key] = name\n",
    "            print(name)\n",
    "            # sleep to avoid getting blocked from the amazon website\n",
    "            sleep(20)\n",
    "            if (count % 20 == 0):\n",
    "                #dump the data into json file for future use\n",
    "                f=open(title_asin_json,'w')\n",
    "                json.dump(scapped_data, f)\n",
    "            count += 1\n",
    "    return scapped_data\n",
    "\n",
    "            \n",
    "scapped_data = add_title_asin(reviews)\n",
    "#dump the data into json file for future use\n",
    "f=open(title_asin_json,'w')\n",
    "json.dump(scapped_data, f)"
   ]
  },
  {
   "cell_type": "markdown",
   "metadata": {},
   "source": [
    "## Building the Models \n",
    "Now that we have loaded and pre-processed the dataset, we can build the model. We must specify the user ids column and item ids column. We could also pass in an optional target column, however, we will not do this in our case. All other columns are used by the underlying model as side features."
   ]
  },
  {
   "cell_type": "code",
   "execution_count": 8,
   "metadata": {
    "collapsed": false
   },
   "outputs": [
    {
     "data": {
      "text/html": [
       "<pre>Recsys training: model = item_similarity</pre>"
      ],
      "text/plain": [
       "Recsys training: model = item_similarity"
      ]
     },
     "metadata": {},
     "output_type": "display_data"
    },
    {
     "data": {
      "text/html": [
       "<pre>Warning: Ignoring columns reviewerName, helpful, reviewText, overall, summary, unixReviewTime, reviewTime;</pre>"
      ],
      "text/plain": [
       "Warning: Ignoring columns reviewerName, helpful, reviewText, overall, summary, unixReviewTime, reviewTime;"
      ]
     },
     "metadata": {},
     "output_type": "display_data"
    },
    {
     "data": {
      "text/html": [
       "<pre>    To use one of these as a target column, set target = <column_name></pre>"
      ],
      "text/plain": [
       "    To use one of these as a target column, set target = <column_name>"
      ]
     },
     "metadata": {},
     "output_type": "display_data"
    },
    {
     "data": {
      "text/html": [
       "<pre>    and use a method that allows the use of a target.</pre>"
      ],
      "text/plain": [
       "    and use a method that allows the use of a target."
      ]
     },
     "metadata": {},
     "output_type": "display_data"
    },
    {
     "data": {
      "text/html": [
       "<pre>Preparing data set.</pre>"
      ],
      "text/plain": [
       "Preparing data set."
      ]
     },
     "metadata": {},
     "output_type": "display_data"
    },
    {
     "data": {
      "text/html": [
       "<pre>    Data has 1662541 observations with 123945 users and 44266 items.</pre>"
      ],
      "text/plain": [
       "    Data has 1662541 observations with 123945 users and 44266 items."
      ]
     },
     "metadata": {},
     "output_type": "display_data"
    },
    {
     "data": {
      "text/html": [
       "<pre>    Data prepared in: 1.40512s</pre>"
      ],
      "text/plain": [
       "    Data prepared in: 1.40512s"
      ]
     },
     "metadata": {},
     "output_type": "display_data"
    },
    {
     "data": {
      "text/html": [
       "<pre>Training model from provided data.</pre>"
      ],
      "text/plain": [
       "Training model from provided data."
      ]
     },
     "metadata": {},
     "output_type": "display_data"
    },
    {
     "data": {
      "text/html": [
       "<pre>Gathering per-item and per-user statistics.</pre>"
      ],
      "text/plain": [
       "Gathering per-item and per-user statistics."
      ]
     },
     "metadata": {},
     "output_type": "display_data"
    },
    {
     "data": {
      "text/html": [
       "<pre>+--------------------------------+------------+</pre>"
      ],
      "text/plain": [
       "+--------------------------------+------------+"
      ]
     },
     "metadata": {},
     "output_type": "display_data"
    },
    {
     "data": {
      "text/html": [
       "<pre>| Elapsed Time (Item Statistics) | % Complete |</pre>"
      ],
      "text/plain": [
       "| Elapsed Time (Item Statistics) | % Complete |"
      ]
     },
     "metadata": {},
     "output_type": "display_data"
    },
    {
     "data": {
      "text/html": [
       "<pre>+--------------------------------+------------+</pre>"
      ],
      "text/plain": [
       "+--------------------------------+------------+"
      ]
     },
     "metadata": {},
     "output_type": "display_data"
    },
    {
     "data": {
      "text/html": [
       "<pre>| 6.79ms                         | 2.25       |</pre>"
      ],
      "text/plain": [
       "| 6.79ms                         | 2.25       |"
      ]
     },
     "metadata": {},
     "output_type": "display_data"
    },
    {
     "data": {
      "text/html": [
       "<pre>| 76.411ms                       | 100        |</pre>"
      ],
      "text/plain": [
       "| 76.411ms                       | 100        |"
      ]
     },
     "metadata": {},
     "output_type": "display_data"
    },
    {
     "data": {
      "text/html": [
       "<pre>+--------------------------------+------------+</pre>"
      ],
      "text/plain": [
       "+--------------------------------+------------+"
      ]
     },
     "metadata": {},
     "output_type": "display_data"
    },
    {
     "data": {
      "text/html": [
       "<pre>Setting up lookup tables.</pre>"
      ],
      "text/plain": [
       "Setting up lookup tables."
      ]
     },
     "metadata": {},
     "output_type": "display_data"
    },
    {
     "data": {
      "text/html": [
       "<pre>Processing data in one pass using dense lookup tables.</pre>"
      ],
      "text/plain": [
       "Processing data in one pass using dense lookup tables."
      ]
     },
     "metadata": {},
     "output_type": "display_data"
    },
    {
     "data": {
      "text/html": [
       "<pre>+-------------------------------------+------------------+-----------------+</pre>"
      ],
      "text/plain": [
       "+-------------------------------------+------------------+-----------------+"
      ]
     },
     "metadata": {},
     "output_type": "display_data"
    },
    {
     "data": {
      "text/html": [
       "<pre>| Elapsed Time (Constructing Lookups) | Total % Complete | Items Processed |</pre>"
      ],
      "text/plain": [
       "| Elapsed Time (Constructing Lookups) | Total % Complete | Items Processed |"
      ]
     },
     "metadata": {},
     "output_type": "display_data"
    },
    {
     "data": {
      "text/html": [
       "<pre>+-------------------------------------+------------------+-----------------+</pre>"
      ],
      "text/plain": [
       "+-------------------------------------+------------------+-----------------+"
      ]
     },
     "metadata": {},
     "output_type": "display_data"
    },
    {
     "data": {
      "text/html": [
       "<pre>| 5.94s                               | 0                | 0               |</pre>"
      ],
      "text/plain": [
       "| 5.94s                               | 0                | 0               |"
      ]
     },
     "metadata": {},
     "output_type": "display_data"
    },
    {
     "data": {
      "text/html": [
       "<pre>| 6.95s                               | 7                | 3155            |</pre>"
      ],
      "text/plain": [
       "| 6.95s                               | 7                | 3155            |"
      ]
     },
     "metadata": {},
     "output_type": "display_data"
    },
    {
     "data": {
      "text/html": [
       "<pre>| 8.00s                               | 10               | 4495            |</pre>"
      ],
      "text/plain": [
       "| 8.00s                               | 10               | 4495            |"
      ]
     },
     "metadata": {},
     "output_type": "display_data"
    },
    {
     "data": {
      "text/html": [
       "<pre>| 8.98s                               | 15.75            | 7036            |</pre>"
      ],
      "text/plain": [
       "| 8.98s                               | 15.75            | 7036            |"
      ]
     },
     "metadata": {},
     "output_type": "display_data"
    },
    {
     "data": {
      "text/html": [
       "<pre>| 9.96s                               | 22.5             | 9994            |</pre>"
      ],
      "text/plain": [
       "| 9.96s                               | 22.5             | 9994            |"
      ]
     },
     "metadata": {},
     "output_type": "display_data"
    },
    {
     "data": {
      "text/html": [
       "<pre>| 10.98s                              | 30               | 13368           |</pre>"
      ],
      "text/plain": [
       "| 10.98s                              | 30               | 13368           |"
      ]
     },
     "metadata": {},
     "output_type": "display_data"
    },
    {
     "data": {
      "text/html": [
       "<pre>| 11.97s                              | 44.25            | 19651           |</pre>"
      ],
      "text/plain": [
       "| 11.97s                              | 44.25            | 19651           |"
      ]
     },
     "metadata": {},
     "output_type": "display_data"
    },
    {
     "data": {
      "text/html": [
       "<pre>| 12.98s                              | 52.25            | 23162           |</pre>"
      ],
      "text/plain": [
       "| 12.98s                              | 52.25            | 23162           |"
      ]
     },
     "metadata": {},
     "output_type": "display_data"
    },
    {
     "data": {
      "text/html": [
       "<pre>| 13.97s                              | 64.75            | 28744           |</pre>"
      ],
      "text/plain": [
       "| 13.97s                              | 64.75            | 28744           |"
      ]
     },
     "metadata": {},
     "output_type": "display_data"
    },
    {
     "data": {
      "text/html": [
       "<pre>| 14.98s                              | 72.75            | 32295           |</pre>"
      ],
      "text/plain": [
       "| 14.98s                              | 72.75            | 32295           |"
      ]
     },
     "metadata": {},
     "output_type": "display_data"
    },
    {
     "data": {
      "text/html": [
       "<pre>| 15.98s                              | 80.25            | 35576           |</pre>"
      ],
      "text/plain": [
       "| 15.98s                              | 80.25            | 35576           |"
      ]
     },
     "metadata": {},
     "output_type": "display_data"
    },
    {
     "data": {
      "text/html": [
       "<pre>| 16.98s                              | 84               | 37233           |</pre>"
      ],
      "text/plain": [
       "| 16.98s                              | 84               | 37233           |"
      ]
     },
     "metadata": {},
     "output_type": "display_data"
    },
    {
     "data": {
      "text/html": [
       "<pre>| 17.99s                              | 86.75            | 38454           |</pre>"
      ],
      "text/plain": [
       "| 17.99s                              | 86.75            | 38454           |"
      ]
     },
     "metadata": {},
     "output_type": "display_data"
    },
    {
     "data": {
      "text/html": [
       "<pre>| 18.99s                              | 89.75            | 39735           |</pre>"
      ],
      "text/plain": [
       "| 18.99s                              | 89.75            | 39735           |"
      ]
     },
     "metadata": {},
     "output_type": "display_data"
    },
    {
     "data": {
      "text/html": [
       "<pre>| 19.99s                              | 92               | 40776           |</pre>"
      ],
      "text/plain": [
       "| 19.99s                              | 92               | 40776           |"
      ]
     },
     "metadata": {},
     "output_type": "display_data"
    },
    {
     "data": {
      "text/html": [
       "<pre>| 21.00s                              | 94.75            | 41976           |</pre>"
      ],
      "text/plain": [
       "| 21.00s                              | 94.75            | 41976           |"
      ]
     },
     "metadata": {},
     "output_type": "display_data"
    },
    {
     "data": {
      "text/html": [
       "<pre>| 22.00s                              | 96.75            | 42863           |</pre>"
      ],
      "text/plain": [
       "| 22.00s                              | 96.75            | 42863           |"
      ]
     },
     "metadata": {},
     "output_type": "display_data"
    },
    {
     "data": {
      "text/html": [
       "<pre>| 23.00s                              | 99.25            | 43954           |</pre>"
      ],
      "text/plain": [
       "| 23.00s                              | 99.25            | 43954           |"
      ]
     },
     "metadata": {},
     "output_type": "display_data"
    },
    {
     "data": {
      "text/html": [
       "<pre>| 47.22s                              | 100              | 44266           |</pre>"
      ],
      "text/plain": [
       "| 47.22s                              | 100              | 44266           |"
      ]
     },
     "metadata": {},
     "output_type": "display_data"
    },
    {
     "data": {
      "text/html": [
       "<pre>+-------------------------------------+------------------+-----------------+</pre>"
      ],
      "text/plain": [
       "+-------------------------------------+------------------+-----------------+"
      ]
     },
     "metadata": {},
     "output_type": "display_data"
    },
    {
     "data": {
      "text/html": [
       "<pre>Finalizing lookup tables.</pre>"
      ],
      "text/plain": [
       "Finalizing lookup tables."
      ]
     },
     "metadata": {},
     "output_type": "display_data"
    },
    {
     "data": {
      "text/html": [
       "<pre>Generating candidate set for working with new users.</pre>"
      ],
      "text/plain": [
       "Generating candidate set for working with new users."
      ]
     },
     "metadata": {},
     "output_type": "display_data"
    },
    {
     "data": {
      "text/html": [
       "<pre>Finished training in 48.4328s</pre>"
      ],
      "text/plain": [
       "Finished training in 48.4328s"
      ]
     },
     "metadata": {},
     "output_type": "display_data"
    }
   ],
   "source": [
    "model = gl.recommender.create(reviews, user_id=\"reviewerID\", item_id=\"asin\")"
   ]
  },
  {
   "cell_type": "code",
   "execution_count": 9,
   "metadata": {
    "collapsed": false
   },
   "outputs": [],
   "source": [
    "similarities = model.get_similar_items()"
   ]
  },
  {
   "cell_type": "markdown",
   "metadata": {},
   "source": [
    "Here similarities is just another SFrame, where you have the title of the item (in our case the asin value), and the similar item with a particular score."
   ]
  },
  {
   "cell_type": "code",
   "execution_count": 10,
   "metadata": {
    "collapsed": false
   },
   "outputs": [
    {
     "data": {
      "text/html": [
       "<div style=\"max-height:1000px;max-width:1500px;overflow:auto;\"><table frame=\"box\" rules=\"cols\">\n",
       "    <tr>\n",
       "        <th style=\"padding-left: 1em; padding-right: 1em; text-align: center\">asin</th>\n",
       "        <th style=\"padding-left: 1em; padding-right: 1em; text-align: center\">similar</th>\n",
       "        <th style=\"padding-left: 1em; padding-right: 1em; text-align: center\">score</th>\n",
       "        <th style=\"padding-left: 1em; padding-right: 1em; text-align: center\">rank</th>\n",
       "    </tr>\n",
       "    <tr>\n",
       "        <td style=\"padding-left: 1em; padding-right: 1em; text-align: center; vertical-align: top\">0005019281</td>\n",
       "        <td style=\"padding-left: 1em; padding-right: 1em; text-align: center; vertical-align: top\">0780623746</td>\n",
       "        <td style=\"padding-left: 1em; padding-right: 1em; text-align: center; vertical-align: top\">0.0597015023232</td>\n",
       "        <td style=\"padding-left: 1em; padding-right: 1em; text-align: center; vertical-align: top\">1</td>\n",
       "    </tr>\n",
       "    <tr>\n",
       "        <td style=\"padding-left: 1em; padding-right: 1em; text-align: center; vertical-align: top\">0005019281</td>\n",
       "        <td style=\"padding-left: 1em; padding-right: 1em; text-align: center; vertical-align: top\">6302993687</td>\n",
       "        <td style=\"padding-left: 1em; padding-right: 1em; text-align: center; vertical-align: top\">0.0409356951714</td>\n",
       "        <td style=\"padding-left: 1em; padding-right: 1em; text-align: center; vertical-align: top\">2</td>\n",
       "    </tr>\n",
       "    <tr>\n",
       "        <td style=\"padding-left: 1em; padding-right: 1em; text-align: center; vertical-align: top\">0005019281</td>\n",
       "        <td style=\"padding-left: 1em; padding-right: 1em; text-align: center; vertical-align: top\">6303824358</td>\n",
       "        <td style=\"padding-left: 1em; padding-right: 1em; text-align: center; vertical-align: top\">0.0315789580345</td>\n",
       "        <td style=\"padding-left: 1em; padding-right: 1em; text-align: center; vertical-align: top\">3</td>\n",
       "    </tr>\n",
       "    <tr>\n",
       "        <td style=\"padding-left: 1em; padding-right: 1em; text-align: center; vertical-align: top\">0005019281</td>\n",
       "        <td style=\"padding-left: 1em; padding-right: 1em; text-align: center; vertical-align: top\">6301175239</td>\n",
       "        <td style=\"padding-left: 1em; padding-right: 1em; text-align: center; vertical-align: top\">0.021505355835</td>\n",
       "        <td style=\"padding-left: 1em; padding-right: 1em; text-align: center; vertical-align: top\">4</td>\n",
       "    </tr>\n",
       "    <tr>\n",
       "        <td style=\"padding-left: 1em; padding-right: 1em; text-align: center; vertical-align: top\">0005019281</td>\n",
       "        <td style=\"padding-left: 1em; padding-right: 1em; text-align: center; vertical-align: top\">6300251004</td>\n",
       "        <td style=\"padding-left: 1em; padding-right: 1em; text-align: center; vertical-align: top\">0.0204081535339</td>\n",
       "        <td style=\"padding-left: 1em; padding-right: 1em; text-align: center; vertical-align: top\">5</td>\n",
       "    </tr>\n",
       "</table>\n",
       "[5 rows x 4 columns]<br/>\n",
       "</div>"
      ],
      "text/plain": [
       "Columns:\n",
       "\tasin\tstr\n",
       "\tsimilar\tstr\n",
       "\tscore\tfloat\n",
       "\trank\tint\n",
       "\n",
       "Rows: 5\n",
       "\n",
       "Data:\n",
       "+------------+------------+-----------------+------+\n",
       "|    asin    |  similar   |      score      | rank |\n",
       "+------------+------------+-----------------+------+\n",
       "| 0005019281 | 0780623746 | 0.0597015023232 |  1   |\n",
       "| 0005019281 | 6302993687 | 0.0409356951714 |  2   |\n",
       "| 0005019281 | 6303824358 | 0.0315789580345 |  3   |\n",
       "| 0005019281 | 6301175239 |  0.021505355835 |  4   |\n",
       "| 0005019281 | 6300251004 | 0.0204081535339 |  5   |\n",
       "+------------+------------+-----------------+------+\n",
       "[5 rows x 4 columns]"
      ]
     },
     "execution_count": 10,
     "metadata": {},
     "output_type": "execute_result"
    }
   ],
   "source": [
    "similarities.head(5)"
   ]
  },
  {
   "cell_type": "markdown",
   "metadata": {},
   "source": [
    "This should yield the following:\n",
    "\n",
    "<img src='similarities.png'>"
   ]
  },
  {
   "cell_type": "markdown",
   "metadata": {},
   "source": [
    "Now we can generate a graph for the model. Each row of the table will be one graph edge between the asin value and the similar item. Esentially, the SGraph is a connection between items, where related items have an edge. SGraphs are generally extremely useful in GraphLab, as it contains an abundance of operations that you can use to do really interesting analytics. The SGraph is generated as follows:"
   ]
  },
  {
   "cell_type": "code",
   "execution_count": 11,
   "metadata": {
    "collapsed": false
   },
   "outputs": [
    {
     "data": {
      "text/plain": [
       "{'num_edges': 442576, 'num_vertices': 44266}"
      ]
     },
     "execution_count": 11,
     "metadata": {},
     "output_type": "execute_result"
    }
   ],
   "source": [
    "graph = gl.SGraph().add_edges(similarities['asin','similar','score'], src_field = \"asin\", dst_field = \"similar\")\n",
    "graph.summary()"
   ]
  },
  {
   "cell_type": "markdown",
   "metadata": {},
   "source": [
    "Now that we have constructed the graph data structure, we can proceed to generate recommendations. There are multiple approaches we could take here. I will go through two possible methods:\n",
    "\n",
    "   1. We can construct a ShortestPath struct from the SGraph, and then find a path between two items. You start with one item, and build a spanning tree to all other items using the shortest_path.create method. Then we can query the tree using get_path() to find the shortest path, and this returns a list of items along this shortest path. These items are the recommendations generated from the two inputs. \n",
    "\n",
    "   2. Since we know that the SGraph is a connection between items where related items have an edge, we can simply find the neighbors of a given item to find similar items to it. This is a simplistic approach but still yeilds good results."
   ]
  },
  {
   "cell_type": "markdown",
   "metadata": {},
   "source": [
    "#### First SGraph approach to generate recommendations:"
   ]
  },
  {
   "cell_type": "code",
   "execution_count": 12,
   "metadata": {
    "collapsed": false
   },
   "outputs": [
    {
     "data": {
      "text/html": [
       "<pre>+----------------------------+</pre>"
      ],
      "text/plain": [
       "+----------------------------+"
      ]
     },
     "metadata": {},
     "output_type": "display_data"
    },
    {
     "data": {
      "text/html": [
       "<pre>| Number of vertices updated |</pre>"
      ],
      "text/plain": [
       "| Number of vertices updated |"
      ]
     },
     "metadata": {},
     "output_type": "display_data"
    },
    {
     "data": {
      "text/html": [
       "<pre>+----------------------------+</pre>"
      ],
      "text/plain": [
       "+----------------------------+"
      ]
     },
     "metadata": {},
     "output_type": "display_data"
    },
    {
     "data": {
      "text/html": [
       "<pre>| 9793                       |</pre>"
      ],
      "text/plain": [
       "| 9793                       |"
      ]
     },
     "metadata": {},
     "output_type": "display_data"
    },
    {
     "data": {
      "text/html": [
       "<pre>| 59789                      |</pre>"
      ],
      "text/plain": [
       "| 59789                      |"
      ]
     },
     "metadata": {},
     "output_type": "display_data"
    },
    {
     "data": {
      "text/html": [
       "<pre>| 30311                      |</pre>"
      ],
      "text/plain": [
       "| 30311                      |"
      ]
     },
     "metadata": {},
     "output_type": "display_data"
    },
    {
     "data": {
      "text/html": [
       "<pre>| 7170                       |</pre>"
      ],
      "text/plain": [
       "| 7170                       |"
      ]
     },
     "metadata": {},
     "output_type": "display_data"
    },
    {
     "data": {
      "text/html": [
       "<pre>| 1053                       |</pre>"
      ],
      "text/plain": [
       "| 1053                       |"
      ]
     },
     "metadata": {},
     "output_type": "display_data"
    },
    {
     "data": {
      "text/html": [
       "<pre>| 118                        |</pre>"
      ],
      "text/plain": [
       "| 118                        |"
      ]
     },
     "metadata": {},
     "output_type": "display_data"
    },
    {
     "data": {
      "text/html": [
       "<pre>| 8                          |</pre>"
      ],
      "text/plain": [
       "| 8                          |"
      ]
     },
     "metadata": {},
     "output_type": "display_data"
    },
    {
     "data": {
      "text/html": [
       "<pre>| 1                          |</pre>"
      ],
      "text/plain": [
       "| 1                          |"
      ]
     },
     "metadata": {},
     "output_type": "display_data"
    },
    {
     "data": {
      "text/html": [
       "<pre>| 0                          |</pre>"
      ],
      "text/plain": [
       "| 0                          |"
      ]
     },
     "metadata": {},
     "output_type": "display_data"
    },
    {
     "data": {
      "text/html": [
       "<pre>+----------------------------+</pre>"
      ],
      "text/plain": [
       "+----------------------------+"
      ]
     },
     "metadata": {},
     "output_type": "display_data"
    },
    {
     "name": "stdout",
     "output_type": "stream",
     "text": [
      "[('B000HCO87C', 0.0), ('0780656946', 1.0), ('B000FAOC2M', 2.0)]\n",
      "[u'The Texas Chainsaw Massacre: The Beginning']\n"
     ]
    },
    {
     "data": {
      "text/html": [
       "<pre>+----------------------------+</pre>"
      ],
      "text/plain": [
       "+----------------------------+"
      ]
     },
     "metadata": {},
     "output_type": "display_data"
    },
    {
     "data": {
      "text/html": [
       "<pre>| Number of vertices updated |</pre>"
      ],
      "text/plain": [
       "| Number of vertices updated |"
      ]
     },
     "metadata": {},
     "output_type": "display_data"
    },
    {
     "data": {
      "text/html": [
       "<pre>+----------------------------+</pre>"
      ],
      "text/plain": [
       "+----------------------------+"
      ]
     },
     "metadata": {},
     "output_type": "display_data"
    },
    {
     "data": {
      "text/html": [
       "<pre>| 5415                       |</pre>"
      ],
      "text/plain": [
       "| 5415                       |"
      ]
     },
     "metadata": {},
     "output_type": "display_data"
    },
    {
     "data": {
      "text/html": [
       "<pre>| 59160                      |</pre>"
      ],
      "text/plain": [
       "| 59160                      |"
      ]
     },
     "metadata": {},
     "output_type": "display_data"
    },
    {
     "data": {
      "text/html": [
       "<pre>| 29037                      |</pre>"
      ],
      "text/plain": [
       "| 29037                      |"
      ]
     },
     "metadata": {},
     "output_type": "display_data"
    },
    {
     "data": {
      "text/html": [
       "<pre>| 6158                       |</pre>"
      ],
      "text/plain": [
       "| 6158                       |"
      ]
     },
     "metadata": {},
     "output_type": "display_data"
    },
    {
     "data": {
      "text/html": [
       "<pre>| 918                        |</pre>"
      ],
      "text/plain": [
       "| 918                        |"
      ]
     },
     "metadata": {},
     "output_type": "display_data"
    },
    {
     "data": {
      "text/html": [
       "<pre>| 91                         |</pre>"
      ],
      "text/plain": [
       "| 91                         |"
      ]
     },
     "metadata": {},
     "output_type": "display_data"
    },
    {
     "data": {
      "text/html": [
       "<pre>| 3                          |</pre>"
      ],
      "text/plain": [
       "| 3                          |"
      ]
     },
     "metadata": {},
     "output_type": "display_data"
    },
    {
     "data": {
      "text/html": [
       "<pre>| 0                          |</pre>"
      ],
      "text/plain": [
       "| 0                          |"
      ]
     },
     "metadata": {},
     "output_type": "display_data"
    },
    {
     "data": {
      "text/html": [
       "<pre>+----------------------------+</pre>"
      ],
      "text/plain": [
       "+----------------------------+"
      ]
     },
     "metadata": {},
     "output_type": "display_data"
    },
    {
     "name": "stdout",
     "output_type": "stream",
     "text": [
      "[('6300251004', 0.0), ('0780623746', 1.0), ('0005019281', 2.0)]\n",
      "[u'A Christmas Carol']\n"
     ]
    }
   ],
   "source": [
    "def get_recommendations_sp(graph, asin_1, asin_2):\n",
    "    title_asin_json = 'title_asin.json'\n",
    "    sp = gl.shortest_path.create(graph, asin_1)\n",
    "    recommendations = sp.get_path(asin_2)\n",
    "    print(recommendations)\n",
    "    scapped_data  = {}\n",
    "    res = []\n",
    "    if (os.path.isfile(title_asin_json)):\n",
    "        scapped_data = json.load(open(title_asin_json))\n",
    "    # extract titles from asin values\n",
    "    for recommendation, idx in recommendations:\n",
    "        # skip the first and last element, as they are the inputted items\n",
    "        if not (idx == 0 or idx == (len(recommendations)-1)):\n",
    "            if ((recommendation not in scapped_data) or \\\n",
    "                ((recommendation in scapped_data) and (scapped_data[recommendation] == \"\"))):\n",
    "                for i in range(5):\n",
    "                    name = get_product_title(recommendation)\n",
    "                    if (not name == \"\"):\n",
    "                        break;\n",
    "                    sleep(20)\n",
    "\n",
    "                scapped_data[recommendation] = name\n",
    "            else:\n",
    "                name = scapped_data[recommendation]\n",
    "            res.append(name)\n",
    "    f=open(title_asin_json,'w')\n",
    "    json.dump(scapped_data, f)\n",
    "    return res\n",
    "'''\n",
    "B000HCO87C - The Omen\n",
    "B000FAOC2M - The Hills Have Eyes\n",
    "'''\n",
    "print(get_recommendations_sp(graph, 'B000HCO87C', 'B000FAOC2M'))\n",
    "'''\n",
    "6300251004 - Scrooge VHS\n",
    "0005019281 - An American Christmas Carol VHS\n",
    "'''\n",
    "print(get_recommendations_sp(graph, '6300251004', '0005019281'))"
   ]
  },
  {
   "cell_type": "markdown",
   "metadata": {},
   "source": [
    "When you run the above code, you get the following recommendation for the first example:\n",
    "\n",
    "    [u'The Texas Chainsaw Massacre: The Beginning']\n",
    "    \n",
    "And the following recommendation for the second example:\n",
    "\n",
    "    ['A Christmas Carol']\n",
    "    \n",
    "As you can notice, these recommendations are really good. It is important to note that when we use this shortest path method, it is not necessary that we will get only one recommendation. For instance, if the inputted items are more disimilar, we will likely get more recommendations as the shortest path may contain more vertices."
   ]
  },
  {
   "cell_type": "markdown",
   "metadata": {},
   "source": [
    "#### Second SGraph approach to generate recommendations:"
   ]
  },
  {
   "cell_type": "code",
   "execution_count": 14,
   "metadata": {
    "collapsed": false
   },
   "outputs": [
    {
     "name": "stdout",
     "output_type": "stream",
     "text": [
      "+------------+\n",
      "|    __id    |\n",
      "+------------+\n",
      "| B000HCO87C |\n",
      "| 6302814391 |\n",
      "| 6302643627 |\n",
      "| 6300247333 |\n",
      "| 0780656946 |\n",
      "| B000CCBC9E |\n",
      "| 6300247147 |\n",
      "| 6300247104 |\n",
      "| B000AYEL4W |\n",
      "| B000AA4JKW |\n",
      "+------------+\n",
      "[16 rows x 1 columns]\n",
      "Note: Only the head of the SFrame is printed.\n",
      "You can use print_rows(num_rows=m, num_columns=n) to print more rows and columns.\n",
      "[u'Exorcist II - The Heretic VHS', u'Jesus of Nazareth VHS', u'Omen 3: The Final Conflict VHS', u'The Texas Chainsaw Massacre: The Beginning', u'The Fog', u'Omen 2 VHS', u'The Omen VHS', u'Dominion - Prequel to the Exorcist', u'The Amityville Horror', u'Freedomland', u'The Black Dahlia', u'Hulk', u'When a Stranger Calls', u'Two for the Money', u\"Mary Shelley's Frankenstein\"]\n",
      "+------------+\n",
      "|    __id    |\n",
      "+------------+\n",
      "| 0792839129 |\n",
      "| 6300251004 |\n",
      "| 0005019281 |\n",
      "| 6302794331 |\n",
      "| 6300215695 |\n",
      "| 0782002064 |\n",
      "| 6305609756 |\n",
      "| 6303824358 |\n",
      "| 6301967275 |\n",
      "| 6301442962 |\n",
      "+------------+\n",
      "[13 rows x 1 columns]\n",
      "Note: Only the head of the SFrame is printed.\n",
      "You can use print_rows(num_rows=m, num_columns=n) to print more rows and columns.\n",
      "[u'Scrooge VHS', u'An American Christmas Carol VHS', 'The Muppet Christmas Carol VHS', 'White Christmas VHS', \"It's a Wonderful Life Original Uncut Version VHS\", u'Scrooged', u'A Christmas Carol VHS', 'Christmas Carol VHS', u'Miracle on 34th Street VHS', u'A Christmas Carol', u'Surviving Christmas', u'A Christmas Carol Colorized VHS']\n"
     ]
    }
   ],
   "source": [
    "def get_recommendations_graph(graph, asin_1):\n",
    "    title_asin_json = 'title_asin.json'\n",
    "    subgraph = graph.get_neighborhood(ids=[asin_1], radius=1)\n",
    "    recommendations = subgraph.get_vertices()\n",
    "    print(recommendations)\n",
    "    scapped_data  = {}\n",
    "    res = []\n",
    "    if (os.path.isfile(title_asin_json)):\n",
    "        scapped_data = json.load(open(title_asin_json))\n",
    "    idx = 0\n",
    "    # extract titles from asin values\n",
    "    for row in recommendations:\n",
    "        recommendation = row['__id']\n",
    "        # skip the first item as it is the inputted item\n",
    "        if not (idx == 0):\n",
    "            if ((recommendation not in scapped_data) or \\\n",
    "                ((recommendation in scapped_data) and (scapped_data[recommendation] == \"\"))):\n",
    "                for i in range(5):\n",
    "                    name = get_product_title(recommendation)\n",
    "                    if (not name == \"\"):\n",
    "                        break;\n",
    "                    sleep(20)\n",
    "\n",
    "                scapped_data[recommendation] = name\n",
    "            else:\n",
    "                name = scapped_data[recommendation]\n",
    "            res.append(name)\n",
    "        idx+=1\n",
    "    f=open(title_asin_json,'w')\n",
    "    json.dump(scapped_data, f)\n",
    "    return res\n",
    "    \n",
    "'''\n",
    "B000HCO87C - The Omen\n",
    "B000FAOC2M - The Hills Have Eyes\n",
    "6300251004 - Scrooge VHS\n",
    "0005019281 - An American Christmas Carol VHS\n",
    "'''\n",
    "print(get_recommendations_graph(graph, 'B000HCO87C'))\n",
    "\n",
    "print(get_recommendations_graph(graph, '6300251004'))"
   ]
  },
  {
   "cell_type": "markdown",
   "metadata": {},
   "source": [
    "When you run the above code, you get the following recommendations for the first example:\n",
    "\n",
    "        ['Exorcist II - The Heretic VHS', 'Jesus of Nazareth VHS', 'Omen 3: The Final Conflict VHS', \n",
    "        u'The Texas    Chainsaw Massacre: The Beginning', 'The Fog', 'Omen 2 VHS', 'The Omen VHS', \n",
    "        'Dominion - Prequelto the Exorcist', 'The Amityville Horror', 'Freedomland', 'The Black Dahlia', \n",
    "        'Two for the Money',u\"Mary Shelley's Frankenstein\"]\n",
    " \n",
    "And the following recommendation for the second example:\n",
    "        \n",
    "        [u'Scrooge VHS', u'An American Christmas Carol VHS', 'The Muppet Christmas Carol VHS', \n",
    "        'White Christmas VHS',\"It's a Wonderful Life Original Uncut Version VHS\", u'Scrooged',\n",
    "        u'A Christmas Carol VHS', 'Christmas Carol VHS', u'Miracle on 34th Street VHS',\n",
    "        u'A Christmas Carol', u'Surviving Christmas', u'A Christmas Carol Colorized VHS']\n",
    "\n",
    "Again these are very strong results, and there is the added benefit that this approach usually returns many more recommendations than the first approach. We could also easily modify the code to return the k-best recommendations."
   ]
  },
  {
   "cell_type": "markdown",
   "metadata": {},
   "source": [
    "#### Side note: You can also simply visualize the recommender model without using SGraphs.\n",
    "\n",
    "Once we create the recommender model, we do not necessarily need to create a SGraph struct if we are simply trying to explore and visualize the recommendation model. GraphLab allows you interactively evaluate and explore recommendations model using the views.overview() command. However, here you can only manually search for recommendations, and wouldn't make sense to use if the recommendation engine is part of a larger program you are building."
   ]
  },
  {
   "cell_type": "code",
   "execution_count": 15,
   "metadata": {
    "collapsed": false
   },
   "outputs": [
    {
     "data": {
      "text/html": [
       "<pre>recommendations finished on 1000/123945 queries. users per second: 2725.83</pre>"
      ],
      "text/plain": [
       "recommendations finished on 1000/123945 queries. users per second: 2725.83"
      ]
     },
     "metadata": {},
     "output_type": "display_data"
    },
    {
     "data": {
      "text/html": [
       "<pre>recommendations finished on 2000/123945 queries. users per second: 2753.72</pre>"
      ],
      "text/plain": [
       "recommendations finished on 2000/123945 queries. users per second: 2753.72"
      ]
     },
     "metadata": {},
     "output_type": "display_data"
    },
    {
     "data": {
      "text/html": [
       "<pre>recommendations finished on 3000/123945 queries. users per second: 2764.6</pre>"
      ],
      "text/plain": [
       "recommendations finished on 3000/123945 queries. users per second: 2764.6"
      ]
     },
     "metadata": {},
     "output_type": "display_data"
    },
    {
     "data": {
      "text/html": [
       "<pre>recommendations finished on 4000/123945 queries. users per second: 2762.11</pre>"
      ],
      "text/plain": [
       "recommendations finished on 4000/123945 queries. users per second: 2762.11"
      ]
     },
     "metadata": {},
     "output_type": "display_data"
    },
    {
     "data": {
      "text/html": [
       "<pre>recommendations finished on 5000/123945 queries. users per second: 2619.44</pre>"
      ],
      "text/plain": [
       "recommendations finished on 5000/123945 queries. users per second: 2619.44"
      ]
     },
     "metadata": {},
     "output_type": "display_data"
    },
    {
     "data": {
      "text/html": [
       "<pre>recommendations finished on 6000/123945 queries. users per second: 2543.56</pre>"
      ],
      "text/plain": [
       "recommendations finished on 6000/123945 queries. users per second: 2543.56"
      ]
     },
     "metadata": {},
     "output_type": "display_data"
    },
    {
     "data": {
      "text/html": [
       "<pre>recommendations finished on 7000/123945 queries. users per second: 2493.06</pre>"
      ],
      "text/plain": [
       "recommendations finished on 7000/123945 queries. users per second: 2493.06"
      ]
     },
     "metadata": {},
     "output_type": "display_data"
    },
    {
     "data": {
      "text/html": [
       "<pre>recommendations finished on 8000/123945 queries. users per second: 2482.48</pre>"
      ],
      "text/plain": [
       "recommendations finished on 8000/123945 queries. users per second: 2482.48"
      ]
     },
     "metadata": {},
     "output_type": "display_data"
    },
    {
     "data": {
      "text/html": [
       "<pre>recommendations finished on 9000/123945 queries. users per second: 2436.62</pre>"
      ],
      "text/plain": [
       "recommendations finished on 9000/123945 queries. users per second: 2436.62"
      ]
     },
     "metadata": {},
     "output_type": "display_data"
    },
    {
     "data": {
      "text/html": [
       "<pre>recommendations finished on 10000/123945 queries. users per second: 2409.6</pre>"
      ],
      "text/plain": [
       "recommendations finished on 10000/123945 queries. users per second: 2409.6"
      ]
     },
     "metadata": {},
     "output_type": "display_data"
    },
    {
     "data": {
      "text/html": [
       "<pre>recommendations finished on 11000/123945 queries. users per second: 2376.84</pre>"
      ],
      "text/plain": [
       "recommendations finished on 11000/123945 queries. users per second: 2376.84"
      ]
     },
     "metadata": {},
     "output_type": "display_data"
    },
    {
     "data": {
      "text/html": [
       "<pre>recommendations finished on 12000/123945 queries. users per second: 2369.52</pre>"
      ],
      "text/plain": [
       "recommendations finished on 12000/123945 queries. users per second: 2369.52"
      ]
     },
     "metadata": {},
     "output_type": "display_data"
    },
    {
     "data": {
      "text/html": [
       "<pre>recommendations finished on 13000/123945 queries. users per second: 2381.94</pre>"
      ],
      "text/plain": [
       "recommendations finished on 13000/123945 queries. users per second: 2381.94"
      ]
     },
     "metadata": {},
     "output_type": "display_data"
    },
    {
     "data": {
      "text/html": [
       "<pre>recommendations finished on 14000/123945 queries. users per second: 2389.78</pre>"
      ],
      "text/plain": [
       "recommendations finished on 14000/123945 queries. users per second: 2389.78"
      ]
     },
     "metadata": {},
     "output_type": "display_data"
    },
    {
     "data": {
      "text/html": [
       "<pre>recommendations finished on 15000/123945 queries. users per second: 2409.25</pre>"
      ],
      "text/plain": [
       "recommendations finished on 15000/123945 queries. users per second: 2409.25"
      ]
     },
     "metadata": {},
     "output_type": "display_data"
    },
    {
     "data": {
      "text/html": [
       "<pre>recommendations finished on 16000/123945 queries. users per second: 2422.33</pre>"
      ],
      "text/plain": [
       "recommendations finished on 16000/123945 queries. users per second: 2422.33"
      ]
     },
     "metadata": {},
     "output_type": "display_data"
    },
    {
     "data": {
      "text/html": [
       "<pre>recommendations finished on 17000/123945 queries. users per second: 2444.34</pre>"
      ],
      "text/plain": [
       "recommendations finished on 17000/123945 queries. users per second: 2444.34"
      ]
     },
     "metadata": {},
     "output_type": "display_data"
    },
    {
     "data": {
      "text/html": [
       "<pre>recommendations finished on 18000/123945 queries. users per second: 2460.21</pre>"
      ],
      "text/plain": [
       "recommendations finished on 18000/123945 queries. users per second: 2460.21"
      ]
     },
     "metadata": {},
     "output_type": "display_data"
    },
    {
     "data": {
      "text/html": [
       "<pre>recommendations finished on 19000/123945 queries. users per second: 2477.51</pre>"
      ],
      "text/plain": [
       "recommendations finished on 19000/123945 queries. users per second: 2477.51"
      ]
     },
     "metadata": {},
     "output_type": "display_data"
    },
    {
     "data": {
      "text/html": [
       "<pre>recommendations finished on 20000/123945 queries. users per second: 2465.05</pre>"
      ],
      "text/plain": [
       "recommendations finished on 20000/123945 queries. users per second: 2465.05"
      ]
     },
     "metadata": {},
     "output_type": "display_data"
    },
    {
     "data": {
      "text/html": [
       "<pre>recommendations finished on 21000/123945 queries. users per second: 2470.2</pre>"
      ],
      "text/plain": [
       "recommendations finished on 21000/123945 queries. users per second: 2470.2"
      ]
     },
     "metadata": {},
     "output_type": "display_data"
    },
    {
     "data": {
      "text/html": [
       "<pre>recommendations finished on 22000/123945 queries. users per second: 2468.19</pre>"
      ],
      "text/plain": [
       "recommendations finished on 22000/123945 queries. users per second: 2468.19"
      ]
     },
     "metadata": {},
     "output_type": "display_data"
    },
    {
     "data": {
      "text/html": [
       "<pre>recommendations finished on 23000/123945 queries. users per second: 2475.74</pre>"
      ],
      "text/plain": [
       "recommendations finished on 23000/123945 queries. users per second: 2475.74"
      ]
     },
     "metadata": {},
     "output_type": "display_data"
    },
    {
     "data": {
      "text/html": [
       "<pre>recommendations finished on 24000/123945 queries. users per second: 2476.07</pre>"
      ],
      "text/plain": [
       "recommendations finished on 24000/123945 queries. users per second: 2476.07"
      ]
     },
     "metadata": {},
     "output_type": "display_data"
    },
    {
     "data": {
      "text/html": [
       "<pre>recommendations finished on 25000/123945 queries. users per second: 2476.81</pre>"
      ],
      "text/plain": [
       "recommendations finished on 25000/123945 queries. users per second: 2476.81"
      ]
     },
     "metadata": {},
     "output_type": "display_data"
    },
    {
     "data": {
      "text/html": [
       "<pre>recommendations finished on 26000/123945 queries. users per second: 2478.82</pre>"
      ],
      "text/plain": [
       "recommendations finished on 26000/123945 queries. users per second: 2478.82"
      ]
     },
     "metadata": {},
     "output_type": "display_data"
    },
    {
     "data": {
      "text/html": [
       "<pre>recommendations finished on 27000/123945 queries. users per second: 2487.41</pre>"
      ],
      "text/plain": [
       "recommendations finished on 27000/123945 queries. users per second: 2487.41"
      ]
     },
     "metadata": {},
     "output_type": "display_data"
    },
    {
     "data": {
      "text/html": [
       "<pre>recommendations finished on 28000/123945 queries. users per second: 2495.12</pre>"
      ],
      "text/plain": [
       "recommendations finished on 28000/123945 queries. users per second: 2495.12"
      ]
     },
     "metadata": {},
     "output_type": "display_data"
    },
    {
     "data": {
      "text/html": [
       "<pre>recommendations finished on 29000/123945 queries. users per second: 2500.86</pre>"
      ],
      "text/plain": [
       "recommendations finished on 29000/123945 queries. users per second: 2500.86"
      ]
     },
     "metadata": {},
     "output_type": "display_data"
    },
    {
     "data": {
      "text/html": [
       "<pre>recommendations finished on 30000/123945 queries. users per second: 2500.65</pre>"
      ],
      "text/plain": [
       "recommendations finished on 30000/123945 queries. users per second: 2500.65"
      ]
     },
     "metadata": {},
     "output_type": "display_data"
    },
    {
     "data": {
      "text/html": [
       "<pre>recommendations finished on 31000/123945 queries. users per second: 2482.24</pre>"
      ],
      "text/plain": [
       "recommendations finished on 31000/123945 queries. users per second: 2482.24"
      ]
     },
     "metadata": {},
     "output_type": "display_data"
    },
    {
     "data": {
      "text/html": [
       "<pre>recommendations finished on 32000/123945 queries. users per second: 2464.63</pre>"
      ],
      "text/plain": [
       "recommendations finished on 32000/123945 queries. users per second: 2464.63"
      ]
     },
     "metadata": {},
     "output_type": "display_data"
    },
    {
     "data": {
      "text/html": [
       "<pre>recommendations finished on 33000/123945 queries. users per second: 2435.29</pre>"
      ],
      "text/plain": [
       "recommendations finished on 33000/123945 queries. users per second: 2435.29"
      ]
     },
     "metadata": {},
     "output_type": "display_data"
    },
    {
     "data": {
      "text/html": [
       "<pre>recommendations finished on 34000/123945 queries. users per second: 2436.44</pre>"
      ],
      "text/plain": [
       "recommendations finished on 34000/123945 queries. users per second: 2436.44"
      ]
     },
     "metadata": {},
     "output_type": "display_data"
    },
    {
     "data": {
      "text/html": [
       "<pre>recommendations finished on 35000/123945 queries. users per second: 2410.34</pre>"
      ],
      "text/plain": [
       "recommendations finished on 35000/123945 queries. users per second: 2410.34"
      ]
     },
     "metadata": {},
     "output_type": "display_data"
    },
    {
     "data": {
      "text/html": [
       "<pre>recommendations finished on 36000/123945 queries. users per second: 2405.27</pre>"
      ],
      "text/plain": [
       "recommendations finished on 36000/123945 queries. users per second: 2405.27"
      ]
     },
     "metadata": {},
     "output_type": "display_data"
    },
    {
     "data": {
      "text/html": [
       "<pre>recommendations finished on 37000/123945 queries. users per second: 2406.38</pre>"
      ],
      "text/plain": [
       "recommendations finished on 37000/123945 queries. users per second: 2406.38"
      ]
     },
     "metadata": {},
     "output_type": "display_data"
    },
    {
     "data": {
      "text/html": [
       "<pre>recommendations finished on 38000/123945 queries. users per second: 2414.63</pre>"
      ],
      "text/plain": [
       "recommendations finished on 38000/123945 queries. users per second: 2414.63"
      ]
     },
     "metadata": {},
     "output_type": "display_data"
    },
    {
     "data": {
      "text/html": [
       "<pre>recommendations finished on 39000/123945 queries. users per second: 2420.25</pre>"
      ],
      "text/plain": [
       "recommendations finished on 39000/123945 queries. users per second: 2420.25"
      ]
     },
     "metadata": {},
     "output_type": "display_data"
    },
    {
     "data": {
      "text/html": [
       "<pre>recommendations finished on 40000/123945 queries. users per second: 2429.18</pre>"
      ],
      "text/plain": [
       "recommendations finished on 40000/123945 queries. users per second: 2429.18"
      ]
     },
     "metadata": {},
     "output_type": "display_data"
    },
    {
     "data": {
      "text/html": [
       "<pre>recommendations finished on 41000/123945 queries. users per second: 2440.01</pre>"
      ],
      "text/plain": [
       "recommendations finished on 41000/123945 queries. users per second: 2440.01"
      ]
     },
     "metadata": {},
     "output_type": "display_data"
    },
    {
     "data": {
      "text/html": [
       "<pre>recommendations finished on 42000/123945 queries. users per second: 2448.26</pre>"
      ],
      "text/plain": [
       "recommendations finished on 42000/123945 queries. users per second: 2448.26"
      ]
     },
     "metadata": {},
     "output_type": "display_data"
    },
    {
     "data": {
      "text/html": [
       "<pre>recommendations finished on 43000/123945 queries. users per second: 2456.81</pre>"
      ],
      "text/plain": [
       "recommendations finished on 43000/123945 queries. users per second: 2456.81"
      ]
     },
     "metadata": {},
     "output_type": "display_data"
    },
    {
     "data": {
      "text/html": [
       "<pre>recommendations finished on 44000/123945 queries. users per second: 2466.11</pre>"
      ],
      "text/plain": [
       "recommendations finished on 44000/123945 queries. users per second: 2466.11"
      ]
     },
     "metadata": {},
     "output_type": "display_data"
    },
    {
     "data": {
      "text/html": [
       "<pre>recommendations finished on 45000/123945 queries. users per second: 2476.07</pre>"
      ],
      "text/plain": [
       "recommendations finished on 45000/123945 queries. users per second: 2476.07"
      ]
     },
     "metadata": {},
     "output_type": "display_data"
    },
    {
     "data": {
      "text/html": [
       "<pre>recommendations finished on 46000/123945 queries. users per second: 2482.04</pre>"
      ],
      "text/plain": [
       "recommendations finished on 46000/123945 queries. users per second: 2482.04"
      ]
     },
     "metadata": {},
     "output_type": "display_data"
    },
    {
     "data": {
      "text/html": [
       "<pre>recommendations finished on 47000/123945 queries. users per second: 2489.38</pre>"
      ],
      "text/plain": [
       "recommendations finished on 47000/123945 queries. users per second: 2489.38"
      ]
     },
     "metadata": {},
     "output_type": "display_data"
    },
    {
     "data": {
      "text/html": [
       "<pre>recommendations finished on 48000/123945 queries. users per second: 2495.96</pre>"
      ],
      "text/plain": [
       "recommendations finished on 48000/123945 queries. users per second: 2495.96"
      ]
     },
     "metadata": {},
     "output_type": "display_data"
    },
    {
     "data": {
      "text/html": [
       "<pre>recommendations finished on 49000/123945 queries. users per second: 2496.08</pre>"
      ],
      "text/plain": [
       "recommendations finished on 49000/123945 queries. users per second: 2496.08"
      ]
     },
     "metadata": {},
     "output_type": "display_data"
    },
    {
     "data": {
      "text/html": [
       "<pre>recommendations finished on 50000/123945 queries. users per second: 2458.33</pre>"
      ],
      "text/plain": [
       "recommendations finished on 50000/123945 queries. users per second: 2458.33"
      ]
     },
     "metadata": {},
     "output_type": "display_data"
    },
    {
     "data": {
      "text/html": [
       "<pre>recommendations finished on 51000/123945 queries. users per second: 2446.2</pre>"
      ],
      "text/plain": [
       "recommendations finished on 51000/123945 queries. users per second: 2446.2"
      ]
     },
     "metadata": {},
     "output_type": "display_data"
    },
    {
     "data": {
      "text/html": [
       "<pre>recommendations finished on 52000/123945 queries. users per second: 2445.99</pre>"
      ],
      "text/plain": [
       "recommendations finished on 52000/123945 queries. users per second: 2445.99"
      ]
     },
     "metadata": {},
     "output_type": "display_data"
    },
    {
     "data": {
      "text/html": [
       "<pre>recommendations finished on 53000/123945 queries. users per second: 2448.53</pre>"
      ],
      "text/plain": [
       "recommendations finished on 53000/123945 queries. users per second: 2448.53"
      ]
     },
     "metadata": {},
     "output_type": "display_data"
    },
    {
     "data": {
      "text/html": [
       "<pre>recommendations finished on 54000/123945 queries. users per second: 2454.16</pre>"
      ],
      "text/plain": [
       "recommendations finished on 54000/123945 queries. users per second: 2454.16"
      ]
     },
     "metadata": {},
     "output_type": "display_data"
    },
    {
     "data": {
      "text/html": [
       "<pre>recommendations finished on 55000/123945 queries. users per second: 2461.89</pre>"
      ],
      "text/plain": [
       "recommendations finished on 55000/123945 queries. users per second: 2461.89"
      ]
     },
     "metadata": {},
     "output_type": "display_data"
    },
    {
     "data": {
      "text/html": [
       "<pre>recommendations finished on 56000/123945 queries. users per second: 2468.01</pre>"
      ],
      "text/plain": [
       "recommendations finished on 56000/123945 queries. users per second: 2468.01"
      ]
     },
     "metadata": {},
     "output_type": "display_data"
    },
    {
     "data": {
      "text/html": [
       "<pre>recommendations finished on 57000/123945 queries. users per second: 2475.7</pre>"
      ],
      "text/plain": [
       "recommendations finished on 57000/123945 queries. users per second: 2475.7"
      ]
     },
     "metadata": {},
     "output_type": "display_data"
    },
    {
     "data": {
      "text/html": [
       "<pre>recommendations finished on 58000/123945 queries. users per second: 2481.81</pre>"
      ],
      "text/plain": [
       "recommendations finished on 58000/123945 queries. users per second: 2481.81"
      ]
     },
     "metadata": {},
     "output_type": "display_data"
    },
    {
     "data": {
      "text/html": [
       "<pre>recommendations finished on 59000/123945 queries. users per second: 2483.49</pre>"
      ],
      "text/plain": [
       "recommendations finished on 59000/123945 queries. users per second: 2483.49"
      ]
     },
     "metadata": {},
     "output_type": "display_data"
    },
    {
     "data": {
      "text/html": [
       "<pre>recommendations finished on 60000/123945 queries. users per second: 2490.58</pre>"
      ],
      "text/plain": [
       "recommendations finished on 60000/123945 queries. users per second: 2490.58"
      ]
     },
     "metadata": {},
     "output_type": "display_data"
    },
    {
     "data": {
      "text/html": [
       "<pre>recommendations finished on 61000/123945 queries. users per second: 2497.3</pre>"
      ],
      "text/plain": [
       "recommendations finished on 61000/123945 queries. users per second: 2497.3"
      ]
     },
     "metadata": {},
     "output_type": "display_data"
    },
    {
     "data": {
      "text/html": [
       "<pre>recommendations finished on 62000/123945 queries. users per second: 2501.91</pre>"
      ],
      "text/plain": [
       "recommendations finished on 62000/123945 queries. users per second: 2501.91"
      ]
     },
     "metadata": {},
     "output_type": "display_data"
    },
    {
     "data": {
      "text/html": [
       "<pre>recommendations finished on 63000/123945 queries. users per second: 2503.56</pre>"
      ],
      "text/plain": [
       "recommendations finished on 63000/123945 queries. users per second: 2503.56"
      ]
     },
     "metadata": {},
     "output_type": "display_data"
    },
    {
     "data": {
      "text/html": [
       "<pre>recommendations finished on 64000/123945 queries. users per second: 2508.41</pre>"
      ],
      "text/plain": [
       "recommendations finished on 64000/123945 queries. users per second: 2508.41"
      ]
     },
     "metadata": {},
     "output_type": "display_data"
    },
    {
     "data": {
      "text/html": [
       "<pre>recommendations finished on 65000/123945 queries. users per second: 2514.39</pre>"
      ],
      "text/plain": [
       "recommendations finished on 65000/123945 queries. users per second: 2514.39"
      ]
     },
     "metadata": {},
     "output_type": "display_data"
    },
    {
     "data": {
      "text/html": [
       "<pre>recommendations finished on 66000/123945 queries. users per second: 2520.95</pre>"
      ],
      "text/plain": [
       "recommendations finished on 66000/123945 queries. users per second: 2520.95"
      ]
     },
     "metadata": {},
     "output_type": "display_data"
    },
    {
     "data": {
      "text/html": [
       "<pre>recommendations finished on 67000/123945 queries. users per second: 2526.3</pre>"
      ],
      "text/plain": [
       "recommendations finished on 67000/123945 queries. users per second: 2526.3"
      ]
     },
     "metadata": {},
     "output_type": "display_data"
    },
    {
     "data": {
      "text/html": [
       "<pre>recommendations finished on 68000/123945 queries. users per second: 2533.14</pre>"
      ],
      "text/plain": [
       "recommendations finished on 68000/123945 queries. users per second: 2533.14"
      ]
     },
     "metadata": {},
     "output_type": "display_data"
    },
    {
     "data": {
      "text/html": [
       "<pre>recommendations finished on 69000/123945 queries. users per second: 2538.53</pre>"
      ],
      "text/plain": [
       "recommendations finished on 69000/123945 queries. users per second: 2538.53"
      ]
     },
     "metadata": {},
     "output_type": "display_data"
    },
    {
     "data": {
      "text/html": [
       "<pre>recommendations finished on 70000/123945 queries. users per second: 2541.57</pre>"
      ],
      "text/plain": [
       "recommendations finished on 70000/123945 queries. users per second: 2541.57"
      ]
     },
     "metadata": {},
     "output_type": "display_data"
    },
    {
     "data": {
      "text/html": [
       "<pre>recommendations finished on 71000/123945 queries. users per second: 2545.86</pre>"
      ],
      "text/plain": [
       "recommendations finished on 71000/123945 queries. users per second: 2545.86"
      ]
     },
     "metadata": {},
     "output_type": "display_data"
    },
    {
     "data": {
      "text/html": [
       "<pre>recommendations finished on 72000/123945 queries. users per second: 2551.36</pre>"
      ],
      "text/plain": [
       "recommendations finished on 72000/123945 queries. users per second: 2551.36"
      ]
     },
     "metadata": {},
     "output_type": "display_data"
    },
    {
     "data": {
      "text/html": [
       "<pre>recommendations finished on 73000/123945 queries. users per second: 2554.66</pre>"
      ],
      "text/plain": [
       "recommendations finished on 73000/123945 queries. users per second: 2554.66"
      ]
     },
     "metadata": {},
     "output_type": "display_data"
    },
    {
     "data": {
      "text/html": [
       "<pre>recommendations finished on 74000/123945 queries. users per second: 2556.74</pre>"
      ],
      "text/plain": [
       "recommendations finished on 74000/123945 queries. users per second: 2556.74"
      ]
     },
     "metadata": {},
     "output_type": "display_data"
    },
    {
     "data": {
      "text/html": [
       "<pre>recommendations finished on 75000/123945 queries. users per second: 2559.94</pre>"
      ],
      "text/plain": [
       "recommendations finished on 75000/123945 queries. users per second: 2559.94"
      ]
     },
     "metadata": {},
     "output_type": "display_data"
    },
    {
     "data": {
      "text/html": [
       "<pre>recommendations finished on 76000/123945 queries. users per second: 2563.28</pre>"
      ],
      "text/plain": [
       "recommendations finished on 76000/123945 queries. users per second: 2563.28"
      ]
     },
     "metadata": {},
     "output_type": "display_data"
    },
    {
     "data": {
      "text/html": [
       "<pre>recommendations finished on 77000/123945 queries. users per second: 2566.34</pre>"
      ],
      "text/plain": [
       "recommendations finished on 77000/123945 queries. users per second: 2566.34"
      ]
     },
     "metadata": {},
     "output_type": "display_data"
    },
    {
     "data": {
      "text/html": [
       "<pre>recommendations finished on 78000/123945 queries. users per second: 2570.86</pre>"
      ],
      "text/plain": [
       "recommendations finished on 78000/123945 queries. users per second: 2570.86"
      ]
     },
     "metadata": {},
     "output_type": "display_data"
    },
    {
     "data": {
      "text/html": [
       "<pre>recommendations finished on 79000/123945 queries. users per second: 2573.68</pre>"
      ],
      "text/plain": [
       "recommendations finished on 79000/123945 queries. users per second: 2573.68"
      ]
     },
     "metadata": {},
     "output_type": "display_data"
    },
    {
     "data": {
      "text/html": [
       "<pre>recommendations finished on 80000/123945 queries. users per second: 2576.71</pre>"
      ],
      "text/plain": [
       "recommendations finished on 80000/123945 queries. users per second: 2576.71"
      ]
     },
     "metadata": {},
     "output_type": "display_data"
    },
    {
     "data": {
      "text/html": [
       "<pre>recommendations finished on 81000/123945 queries. users per second: 2580.47</pre>"
      ],
      "text/plain": [
       "recommendations finished on 81000/123945 queries. users per second: 2580.47"
      ]
     },
     "metadata": {},
     "output_type": "display_data"
    },
    {
     "data": {
      "text/html": [
       "<pre>recommendations finished on 82000/123945 queries. users per second: 2585.15</pre>"
      ],
      "text/plain": [
       "recommendations finished on 82000/123945 queries. users per second: 2585.15"
      ]
     },
     "metadata": {},
     "output_type": "display_data"
    },
    {
     "data": {
      "text/html": [
       "<pre>recommendations finished on 83000/123945 queries. users per second: 2588.92</pre>"
      ],
      "text/plain": [
       "recommendations finished on 83000/123945 queries. users per second: 2588.92"
      ]
     },
     "metadata": {},
     "output_type": "display_data"
    },
    {
     "data": {
      "text/html": [
       "<pre>recommendations finished on 84000/123945 queries. users per second: 2588.57</pre>"
      ],
      "text/plain": [
       "recommendations finished on 84000/123945 queries. users per second: 2588.57"
      ]
     },
     "metadata": {},
     "output_type": "display_data"
    },
    {
     "data": {
      "text/html": [
       "<pre>recommendations finished on 85000/123945 queries. users per second: 2587.4</pre>"
      ],
      "text/plain": [
       "recommendations finished on 85000/123945 queries. users per second: 2587.4"
      ]
     },
     "metadata": {},
     "output_type": "display_data"
    },
    {
     "data": {
      "text/html": [
       "<pre>recommendations finished on 86000/123945 queries. users per second: 2586.95</pre>"
      ],
      "text/plain": [
       "recommendations finished on 86000/123945 queries. users per second: 2586.95"
      ]
     },
     "metadata": {},
     "output_type": "display_data"
    },
    {
     "data": {
      "text/html": [
       "<pre>recommendations finished on 87000/123945 queries. users per second: 2587.71</pre>"
      ],
      "text/plain": [
       "recommendations finished on 87000/123945 queries. users per second: 2587.71"
      ]
     },
     "metadata": {},
     "output_type": "display_data"
    },
    {
     "data": {
      "text/html": [
       "<pre>recommendations finished on 88000/123945 queries. users per second: 2588.6</pre>"
      ],
      "text/plain": [
       "recommendations finished on 88000/123945 queries. users per second: 2588.6"
      ]
     },
     "metadata": {},
     "output_type": "display_data"
    },
    {
     "data": {
      "text/html": [
       "<pre>recommendations finished on 89000/123945 queries. users per second: 2587.77</pre>"
      ],
      "text/plain": [
       "recommendations finished on 89000/123945 queries. users per second: 2587.77"
      ]
     },
     "metadata": {},
     "output_type": "display_data"
    },
    {
     "data": {
      "text/html": [
       "<pre>recommendations finished on 90000/123945 queries. users per second: 2586.68</pre>"
      ],
      "text/plain": [
       "recommendations finished on 90000/123945 queries. users per second: 2586.68"
      ]
     },
     "metadata": {},
     "output_type": "display_data"
    },
    {
     "data": {
      "text/html": [
       "<pre>recommendations finished on 91000/123945 queries. users per second: 2588.91</pre>"
      ],
      "text/plain": [
       "recommendations finished on 91000/123945 queries. users per second: 2588.91"
      ]
     },
     "metadata": {},
     "output_type": "display_data"
    },
    {
     "data": {
      "text/html": [
       "<pre>recommendations finished on 92000/123945 queries. users per second: 2591.02</pre>"
      ],
      "text/plain": [
       "recommendations finished on 92000/123945 queries. users per second: 2591.02"
      ]
     },
     "metadata": {},
     "output_type": "display_data"
    },
    {
     "data": {
      "text/html": [
       "<pre>recommendations finished on 93000/123945 queries. users per second: 2594.3</pre>"
      ],
      "text/plain": [
       "recommendations finished on 93000/123945 queries. users per second: 2594.3"
      ]
     },
     "metadata": {},
     "output_type": "display_data"
    },
    {
     "data": {
      "text/html": [
       "<pre>recommendations finished on 94000/123945 queries. users per second: 2595.95</pre>"
      ],
      "text/plain": [
       "recommendations finished on 94000/123945 queries. users per second: 2595.95"
      ]
     },
     "metadata": {},
     "output_type": "display_data"
    },
    {
     "data": {
      "text/html": [
       "<pre>recommendations finished on 95000/123945 queries. users per second: 2592.03</pre>"
      ],
      "text/plain": [
       "recommendations finished on 95000/123945 queries. users per second: 2592.03"
      ]
     },
     "metadata": {},
     "output_type": "display_data"
    },
    {
     "data": {
      "text/html": [
       "<pre>recommendations finished on 96000/123945 queries. users per second: 2589.23</pre>"
      ],
      "text/plain": [
       "recommendations finished on 96000/123945 queries. users per second: 2589.23"
      ]
     },
     "metadata": {},
     "output_type": "display_data"
    },
    {
     "data": {
      "text/html": [
       "<pre>recommendations finished on 97000/123945 queries. users per second: 2591.13</pre>"
      ],
      "text/plain": [
       "recommendations finished on 97000/123945 queries. users per second: 2591.13"
      ]
     },
     "metadata": {},
     "output_type": "display_data"
    },
    {
     "data": {
      "text/html": [
       "<pre>recommendations finished on 98000/123945 queries. users per second: 2590.4</pre>"
      ],
      "text/plain": [
       "recommendations finished on 98000/123945 queries. users per second: 2590.4"
      ]
     },
     "metadata": {},
     "output_type": "display_data"
    },
    {
     "data": {
      "text/html": [
       "<pre>recommendations finished on 99000/123945 queries. users per second: 2591.26</pre>"
      ],
      "text/plain": [
       "recommendations finished on 99000/123945 queries. users per second: 2591.26"
      ]
     },
     "metadata": {},
     "output_type": "display_data"
    },
    {
     "data": {
      "text/html": [
       "<pre>recommendations finished on 100000/123945 queries. users per second: 2583.24</pre>"
      ],
      "text/plain": [
       "recommendations finished on 100000/123945 queries. users per second: 2583.24"
      ]
     },
     "metadata": {},
     "output_type": "display_data"
    },
    {
     "data": {
      "text/html": [
       "<pre>recommendations finished on 101000/123945 queries. users per second: 2575.75</pre>"
      ],
      "text/plain": [
       "recommendations finished on 101000/123945 queries. users per second: 2575.75"
      ]
     },
     "metadata": {},
     "output_type": "display_data"
    },
    {
     "data": {
      "text/html": [
       "<pre>recommendations finished on 102000/123945 queries. users per second: 2575.35</pre>"
      ],
      "text/plain": [
       "recommendations finished on 102000/123945 queries. users per second: 2575.35"
      ]
     },
     "metadata": {},
     "output_type": "display_data"
    },
    {
     "data": {
      "text/html": [
       "<pre>recommendations finished on 103000/123945 queries. users per second: 2575.03</pre>"
      ],
      "text/plain": [
       "recommendations finished on 103000/123945 queries. users per second: 2575.03"
      ]
     },
     "metadata": {},
     "output_type": "display_data"
    },
    {
     "data": {
      "text/html": [
       "<pre>recommendations finished on 104000/123945 queries. users per second: 2573.35</pre>"
      ],
      "text/plain": [
       "recommendations finished on 104000/123945 queries. users per second: 2573.35"
      ]
     },
     "metadata": {},
     "output_type": "display_data"
    },
    {
     "data": {
      "text/html": [
       "<pre>recommendations finished on 105000/123945 queries. users per second: 2569.07</pre>"
      ],
      "text/plain": [
       "recommendations finished on 105000/123945 queries. users per second: 2569.07"
      ]
     },
     "metadata": {},
     "output_type": "display_data"
    },
    {
     "data": {
      "text/html": [
       "<pre>recommendations finished on 106000/123945 queries. users per second: 2569.84</pre>"
      ],
      "text/plain": [
       "recommendations finished on 106000/123945 queries. users per second: 2569.84"
      ]
     },
     "metadata": {},
     "output_type": "display_data"
    },
    {
     "data": {
      "text/html": [
       "<pre>recommendations finished on 107000/123945 queries. users per second: 2569.19</pre>"
      ],
      "text/plain": [
       "recommendations finished on 107000/123945 queries. users per second: 2569.19"
      ]
     },
     "metadata": {},
     "output_type": "display_data"
    },
    {
     "data": {
      "text/html": [
       "<pre>recommendations finished on 108000/123945 queries. users per second: 2563.59</pre>"
      ],
      "text/plain": [
       "recommendations finished on 108000/123945 queries. users per second: 2563.59"
      ]
     },
     "metadata": {},
     "output_type": "display_data"
    },
    {
     "data": {
      "text/html": [
       "<pre>recommendations finished on 109000/123945 queries. users per second: 2561.99</pre>"
      ],
      "text/plain": [
       "recommendations finished on 109000/123945 queries. users per second: 2561.99"
      ]
     },
     "metadata": {},
     "output_type": "display_data"
    },
    {
     "data": {
      "text/html": [
       "<pre>recommendations finished on 110000/123945 queries. users per second: 2558.4</pre>"
      ],
      "text/plain": [
       "recommendations finished on 110000/123945 queries. users per second: 2558.4"
      ]
     },
     "metadata": {},
     "output_type": "display_data"
    },
    {
     "data": {
      "text/html": [
       "<pre>recommendations finished on 111000/123945 queries. users per second: 2558.27</pre>"
      ],
      "text/plain": [
       "recommendations finished on 111000/123945 queries. users per second: 2558.27"
      ]
     },
     "metadata": {},
     "output_type": "display_data"
    },
    {
     "data": {
      "text/html": [
       "<pre>recommendations finished on 112000/123945 queries. users per second: 2561.14</pre>"
      ],
      "text/plain": [
       "recommendations finished on 112000/123945 queries. users per second: 2561.14"
      ]
     },
     "metadata": {},
     "output_type": "display_data"
    },
    {
     "data": {
      "text/html": [
       "<pre>recommendations finished on 113000/123945 queries. users per second: 2559.06</pre>"
      ],
      "text/plain": [
       "recommendations finished on 113000/123945 queries. users per second: 2559.06"
      ]
     },
     "metadata": {},
     "output_type": "display_data"
    },
    {
     "data": {
      "text/html": [
       "<pre>recommendations finished on 114000/123945 queries. users per second: 2559.67</pre>"
      ],
      "text/plain": [
       "recommendations finished on 114000/123945 queries. users per second: 2559.67"
      ]
     },
     "metadata": {},
     "output_type": "display_data"
    },
    {
     "data": {
      "text/html": [
       "<pre>recommendations finished on 115000/123945 queries. users per second: 2562.04</pre>"
      ],
      "text/plain": [
       "recommendations finished on 115000/123945 queries. users per second: 2562.04"
      ]
     },
     "metadata": {},
     "output_type": "display_data"
    },
    {
     "data": {
      "text/html": [
       "<pre>recommendations finished on 116000/123945 queries. users per second: 2562.4</pre>"
      ],
      "text/plain": [
       "recommendations finished on 116000/123945 queries. users per second: 2562.4"
      ]
     },
     "metadata": {},
     "output_type": "display_data"
    },
    {
     "data": {
      "text/html": [
       "<pre>recommendations finished on 117000/123945 queries. users per second: 2563.9</pre>"
      ],
      "text/plain": [
       "recommendations finished on 117000/123945 queries. users per second: 2563.9"
      ]
     },
     "metadata": {},
     "output_type": "display_data"
    },
    {
     "data": {
      "text/html": [
       "<pre>recommendations finished on 118000/123945 queries. users per second: 2564.23</pre>"
      ],
      "text/plain": [
       "recommendations finished on 118000/123945 queries. users per second: 2564.23"
      ]
     },
     "metadata": {},
     "output_type": "display_data"
    },
    {
     "data": {
      "text/html": [
       "<pre>recommendations finished on 119000/123945 queries. users per second: 2565.87</pre>"
      ],
      "text/plain": [
       "recommendations finished on 119000/123945 queries. users per second: 2565.87"
      ]
     },
     "metadata": {},
     "output_type": "display_data"
    },
    {
     "data": {
      "text/html": [
       "<pre>recommendations finished on 120000/123945 queries. users per second: 2567.25</pre>"
      ],
      "text/plain": [
       "recommendations finished on 120000/123945 queries. users per second: 2567.25"
      ]
     },
     "metadata": {},
     "output_type": "display_data"
    },
    {
     "data": {
      "text/html": [
       "<pre>recommendations finished on 121000/123945 queries. users per second: 2568.72</pre>"
      ],
      "text/plain": [
       "recommendations finished on 121000/123945 queries. users per second: 2568.72"
      ]
     },
     "metadata": {},
     "output_type": "display_data"
    },
    {
     "data": {
      "text/html": [
       "<pre>recommendations finished on 122000/123945 queries. users per second: 2570.39</pre>"
      ],
      "text/plain": [
       "recommendations finished on 122000/123945 queries. users per second: 2570.39"
      ]
     },
     "metadata": {},
     "output_type": "display_data"
    },
    {
     "data": {
      "text/html": [
       "<pre>recommendations finished on 123000/123945 queries. users per second: 2572.58</pre>"
      ],
      "text/plain": [
       "recommendations finished on 123000/123945 queries. users per second: 2572.58"
      ]
     },
     "metadata": {},
     "output_type": "display_data"
    },
    {
     "data": {
      "text/html": [
       "<pre>recommendations finished on 1000/123945 queries. users per second: 2420.79</pre>"
      ],
      "text/plain": [
       "recommendations finished on 1000/123945 queries. users per second: 2420.79"
      ]
     },
     "metadata": {},
     "output_type": "display_data"
    },
    {
     "data": {
      "text/html": [
       "<pre>recommendations finished on 2000/123945 queries. users per second: 2285.04</pre>"
      ],
      "text/plain": [
       "recommendations finished on 2000/123945 queries. users per second: 2285.04"
      ]
     },
     "metadata": {},
     "output_type": "display_data"
    },
    {
     "data": {
      "text/html": [
       "<pre>recommendations finished on 3000/123945 queries. users per second: 2283.15</pre>"
      ],
      "text/plain": [
       "recommendations finished on 3000/123945 queries. users per second: 2283.15"
      ]
     },
     "metadata": {},
     "output_type": "display_data"
    },
    {
     "data": {
      "text/html": [
       "<pre>recommendations finished on 4000/123945 queries. users per second: 2379.84</pre>"
      ],
      "text/plain": [
       "recommendations finished on 4000/123945 queries. users per second: 2379.84"
      ]
     },
     "metadata": {},
     "output_type": "display_data"
    },
    {
     "data": {
      "text/html": [
       "<pre>recommendations finished on 5000/123945 queries. users per second: 2405.53</pre>"
      ],
      "text/plain": [
       "recommendations finished on 5000/123945 queries. users per second: 2405.53"
      ]
     },
     "metadata": {},
     "output_type": "display_data"
    },
    {
     "data": {
      "text/html": [
       "<pre>recommendations finished on 6000/123945 queries. users per second: 2418.58</pre>"
      ],
      "text/plain": [
       "recommendations finished on 6000/123945 queries. users per second: 2418.58"
      ]
     },
     "metadata": {},
     "output_type": "display_data"
    },
    {
     "data": {
      "text/html": [
       "<pre>recommendations finished on 7000/123945 queries. users per second: 2432.01</pre>"
      ],
      "text/plain": [
       "recommendations finished on 7000/123945 queries. users per second: 2432.01"
      ]
     },
     "metadata": {},
     "output_type": "display_data"
    },
    {
     "data": {
      "text/html": [
       "<pre>recommendations finished on 8000/123945 queries. users per second: 2435.74</pre>"
      ],
      "text/plain": [
       "recommendations finished on 8000/123945 queries. users per second: 2435.74"
      ]
     },
     "metadata": {},
     "output_type": "display_data"
    },
    {
     "data": {
      "text/html": [
       "<pre>recommendations finished on 9000/123945 queries. users per second: 2435.48</pre>"
      ],
      "text/plain": [
       "recommendations finished on 9000/123945 queries. users per second: 2435.48"
      ]
     },
     "metadata": {},
     "output_type": "display_data"
    },
    {
     "data": {
      "text/html": [
       "<pre>recommendations finished on 10000/123945 queries. users per second: 2430.62</pre>"
      ],
      "text/plain": [
       "recommendations finished on 10000/123945 queries. users per second: 2430.62"
      ]
     },
     "metadata": {},
     "output_type": "display_data"
    },
    {
     "data": {
      "text/html": [
       "<pre>recommendations finished on 11000/123945 queries. users per second: 2403.27</pre>"
      ],
      "text/plain": [
       "recommendations finished on 11000/123945 queries. users per second: 2403.27"
      ]
     },
     "metadata": {},
     "output_type": "display_data"
    },
    {
     "data": {
      "text/html": [
       "<pre>recommendations finished on 12000/123945 queries. users per second: 2404.3</pre>"
      ],
      "text/plain": [
       "recommendations finished on 12000/123945 queries. users per second: 2404.3"
      ]
     },
     "metadata": {},
     "output_type": "display_data"
    },
    {
     "data": {
      "text/html": [
       "<pre>recommendations finished on 13000/123945 queries. users per second: 2401.68</pre>"
      ],
      "text/plain": [
       "recommendations finished on 13000/123945 queries. users per second: 2401.68"
      ]
     },
     "metadata": {},
     "output_type": "display_data"
    },
    {
     "data": {
      "text/html": [
       "<pre>recommendations finished on 14000/123945 queries. users per second: 2405.74</pre>"
      ],
      "text/plain": [
       "recommendations finished on 14000/123945 queries. users per second: 2405.74"
      ]
     },
     "metadata": {},
     "output_type": "display_data"
    },
    {
     "data": {
      "text/html": [
       "<pre>recommendations finished on 15000/123945 queries. users per second: 2408.47</pre>"
      ],
      "text/plain": [
       "recommendations finished on 15000/123945 queries. users per second: 2408.47"
      ]
     },
     "metadata": {},
     "output_type": "display_data"
    },
    {
     "data": {
      "text/html": [
       "<pre>recommendations finished on 16000/123945 queries. users per second: 2407.22</pre>"
      ],
      "text/plain": [
       "recommendations finished on 16000/123945 queries. users per second: 2407.22"
      ]
     },
     "metadata": {},
     "output_type": "display_data"
    },
    {
     "data": {
      "text/html": [
       "<pre>recommendations finished on 17000/123945 queries. users per second: 2393.5</pre>"
      ],
      "text/plain": [
       "recommendations finished on 17000/123945 queries. users per second: 2393.5"
      ]
     },
     "metadata": {},
     "output_type": "display_data"
    },
    {
     "data": {
      "text/html": [
       "<pre>recommendations finished on 18000/123945 queries. users per second: 2398.91</pre>"
      ],
      "text/plain": [
       "recommendations finished on 18000/123945 queries. users per second: 2398.91"
      ]
     },
     "metadata": {},
     "output_type": "display_data"
    },
    {
     "data": {
      "text/html": [
       "<pre>recommendations finished on 19000/123945 queries. users per second: 2394.11</pre>"
      ],
      "text/plain": [
       "recommendations finished on 19000/123945 queries. users per second: 2394.11"
      ]
     },
     "metadata": {},
     "output_type": "display_data"
    },
    {
     "data": {
      "text/html": [
       "<pre>recommendations finished on 20000/123945 queries. users per second: 2397.71</pre>"
      ],
      "text/plain": [
       "recommendations finished on 20000/123945 queries. users per second: 2397.71"
      ]
     },
     "metadata": {},
     "output_type": "display_data"
    },
    {
     "data": {
      "text/html": [
       "<pre>recommendations finished on 21000/123945 queries. users per second: 2402.77</pre>"
      ],
      "text/plain": [
       "recommendations finished on 21000/123945 queries. users per second: 2402.77"
      ]
     },
     "metadata": {},
     "output_type": "display_data"
    },
    {
     "data": {
      "text/html": [
       "<pre>recommendations finished on 22000/123945 queries. users per second: 2398.25</pre>"
      ],
      "text/plain": [
       "recommendations finished on 22000/123945 queries. users per second: 2398.25"
      ]
     },
     "metadata": {},
     "output_type": "display_data"
    },
    {
     "data": {
      "text/html": [
       "<pre>recommendations finished on 23000/123945 queries. users per second: 2385.28</pre>"
      ],
      "text/plain": [
       "recommendations finished on 23000/123945 queries. users per second: 2385.28"
      ]
     },
     "metadata": {},
     "output_type": "display_data"
    },
    {
     "data": {
      "text/html": [
       "<pre>recommendations finished on 24000/123945 queries. users per second: 2394.38</pre>"
      ],
      "text/plain": [
       "recommendations finished on 24000/123945 queries. users per second: 2394.38"
      ]
     },
     "metadata": {},
     "output_type": "display_data"
    },
    {
     "data": {
      "text/html": [
       "<pre>recommendations finished on 25000/123945 queries. users per second: 2398.95</pre>"
      ],
      "text/plain": [
       "recommendations finished on 25000/123945 queries. users per second: 2398.95"
      ]
     },
     "metadata": {},
     "output_type": "display_data"
    },
    {
     "data": {
      "text/html": [
       "<pre>recommendations finished on 26000/123945 queries. users per second: 2410.52</pre>"
      ],
      "text/plain": [
       "recommendations finished on 26000/123945 queries. users per second: 2410.52"
      ]
     },
     "metadata": {},
     "output_type": "display_data"
    },
    {
     "data": {
      "text/html": [
       "<pre>recommendations finished on 27000/123945 queries. users per second: 2411.41</pre>"
      ],
      "text/plain": [
       "recommendations finished on 27000/123945 queries. users per second: 2411.41"
      ]
     },
     "metadata": {},
     "output_type": "display_data"
    },
    {
     "data": {
      "text/html": [
       "<pre>recommendations finished on 28000/123945 queries. users per second: 2409.5</pre>"
      ],
      "text/plain": [
       "recommendations finished on 28000/123945 queries. users per second: 2409.5"
      ]
     },
     "metadata": {},
     "output_type": "display_data"
    },
    {
     "data": {
      "text/html": [
       "<pre>recommendations finished on 29000/123945 queries. users per second: 2400.68</pre>"
      ],
      "text/plain": [
       "recommendations finished on 29000/123945 queries. users per second: 2400.68"
      ]
     },
     "metadata": {},
     "output_type": "display_data"
    },
    {
     "data": {
      "text/html": [
       "<pre>recommendations finished on 30000/123945 queries. users per second: 2407.3</pre>"
      ],
      "text/plain": [
       "recommendations finished on 30000/123945 queries. users per second: 2407.3"
      ]
     },
     "metadata": {},
     "output_type": "display_data"
    },
    {
     "data": {
      "text/html": [
       "<pre>recommendations finished on 31000/123945 queries. users per second: 2409.58</pre>"
      ],
      "text/plain": [
       "recommendations finished on 31000/123945 queries. users per second: 2409.58"
      ]
     },
     "metadata": {},
     "output_type": "display_data"
    },
    {
     "data": {
      "text/html": [
       "<pre>recommendations finished on 32000/123945 queries. users per second: 2388.96</pre>"
      ],
      "text/plain": [
       "recommendations finished on 32000/123945 queries. users per second: 2388.96"
      ]
     },
     "metadata": {},
     "output_type": "display_data"
    },
    {
     "data": {
      "text/html": [
       "<pre>recommendations finished on 33000/123945 queries. users per second: 2372.33</pre>"
      ],
      "text/plain": [
       "recommendations finished on 33000/123945 queries. users per second: 2372.33"
      ]
     },
     "metadata": {},
     "output_type": "display_data"
    },
    {
     "data": {
      "text/html": [
       "<pre>recommendations finished on 34000/123945 queries. users per second: 2337.89</pre>"
      ],
      "text/plain": [
       "recommendations finished on 34000/123945 queries. users per second: 2337.89"
      ]
     },
     "metadata": {},
     "output_type": "display_data"
    },
    {
     "data": {
      "text/html": [
       "<pre>recommendations finished on 35000/123945 queries. users per second: 2318.42</pre>"
      ],
      "text/plain": [
       "recommendations finished on 35000/123945 queries. users per second: 2318.42"
      ]
     },
     "metadata": {},
     "output_type": "display_data"
    },
    {
     "data": {
      "text/html": [
       "<pre>recommendations finished on 36000/123945 queries. users per second: 2272.48</pre>"
      ],
      "text/plain": [
       "recommendations finished on 36000/123945 queries. users per second: 2272.48"
      ]
     },
     "metadata": {},
     "output_type": "display_data"
    },
    {
     "data": {
      "text/html": [
       "<pre>recommendations finished on 37000/123945 queries. users per second: 2262.68</pre>"
      ],
      "text/plain": [
       "recommendations finished on 37000/123945 queries. users per second: 2262.68"
      ]
     },
     "metadata": {},
     "output_type": "display_data"
    },
    {
     "data": {
      "text/html": [
       "<pre>recommendations finished on 38000/123945 queries. users per second: 2262.8</pre>"
      ],
      "text/plain": [
       "recommendations finished on 38000/123945 queries. users per second: 2262.8"
      ]
     },
     "metadata": {},
     "output_type": "display_data"
    },
    {
     "data": {
      "text/html": [
       "<pre>recommendations finished on 39000/123945 queries. users per second: 2266.36</pre>"
      ],
      "text/plain": [
       "recommendations finished on 39000/123945 queries. users per second: 2266.36"
      ]
     },
     "metadata": {},
     "output_type": "display_data"
    },
    {
     "data": {
      "text/html": [
       "<pre>recommendations finished on 40000/123945 queries. users per second: 2271.36</pre>"
      ],
      "text/plain": [
       "recommendations finished on 40000/123945 queries. users per second: 2271.36"
      ]
     },
     "metadata": {},
     "output_type": "display_data"
    },
    {
     "data": {
      "text/html": [
       "<pre>recommendations finished on 41000/123945 queries. users per second: 2267.53</pre>"
      ],
      "text/plain": [
       "recommendations finished on 41000/123945 queries. users per second: 2267.53"
      ]
     },
     "metadata": {},
     "output_type": "display_data"
    },
    {
     "data": {
      "text/html": [
       "<pre>recommendations finished on 42000/123945 queries. users per second: 2262.05</pre>"
      ],
      "text/plain": [
       "recommendations finished on 42000/123945 queries. users per second: 2262.05"
      ]
     },
     "metadata": {},
     "output_type": "display_data"
    },
    {
     "data": {
      "text/html": [
       "<pre>recommendations finished on 43000/123945 queries. users per second: 2268.84</pre>"
      ],
      "text/plain": [
       "recommendations finished on 43000/123945 queries. users per second: 2268.84"
      ]
     },
     "metadata": {},
     "output_type": "display_data"
    },
    {
     "data": {
      "text/html": [
       "<pre>recommendations finished on 44000/123945 queries. users per second: 2273.51</pre>"
      ],
      "text/plain": [
       "recommendations finished on 44000/123945 queries. users per second: 2273.51"
      ]
     },
     "metadata": {},
     "output_type": "display_data"
    },
    {
     "data": {
      "text/html": [
       "<pre>recommendations finished on 45000/123945 queries. users per second: 2271.75</pre>"
      ],
      "text/plain": [
       "recommendations finished on 45000/123945 queries. users per second: 2271.75"
      ]
     },
     "metadata": {},
     "output_type": "display_data"
    },
    {
     "data": {
      "text/html": [
       "<pre>recommendations finished on 46000/123945 queries. users per second: 2275.68</pre>"
      ],
      "text/plain": [
       "recommendations finished on 46000/123945 queries. users per second: 2275.68"
      ]
     },
     "metadata": {},
     "output_type": "display_data"
    },
    {
     "data": {
      "text/html": [
       "<pre>recommendations finished on 47000/123945 queries. users per second: 2276.71</pre>"
      ],
      "text/plain": [
       "recommendations finished on 47000/123945 queries. users per second: 2276.71"
      ]
     },
     "metadata": {},
     "output_type": "display_data"
    },
    {
     "data": {
      "text/html": [
       "<pre>recommendations finished on 48000/123945 queries. users per second: 2278.72</pre>"
      ],
      "text/plain": [
       "recommendations finished on 48000/123945 queries. users per second: 2278.72"
      ]
     },
     "metadata": {},
     "output_type": "display_data"
    },
    {
     "data": {
      "text/html": [
       "<pre>recommendations finished on 49000/123945 queries. users per second: 2274.54</pre>"
      ],
      "text/plain": [
       "recommendations finished on 49000/123945 queries. users per second: 2274.54"
      ]
     },
     "metadata": {},
     "output_type": "display_data"
    },
    {
     "data": {
      "text/html": [
       "<pre>recommendations finished on 50000/123945 queries. users per second: 2281.14</pre>"
      ],
      "text/plain": [
       "recommendations finished on 50000/123945 queries. users per second: 2281.14"
      ]
     },
     "metadata": {},
     "output_type": "display_data"
    },
    {
     "data": {
      "text/html": [
       "<pre>recommendations finished on 51000/123945 queries. users per second: 2279.85</pre>"
      ],
      "text/plain": [
       "recommendations finished on 51000/123945 queries. users per second: 2279.85"
      ]
     },
     "metadata": {},
     "output_type": "display_data"
    },
    {
     "data": {
      "text/html": [
       "<pre>recommendations finished on 52000/123945 queries. users per second: 2280.87</pre>"
      ],
      "text/plain": [
       "recommendations finished on 52000/123945 queries. users per second: 2280.87"
      ]
     },
     "metadata": {},
     "output_type": "display_data"
    },
    {
     "data": {
      "text/html": [
       "<pre>recommendations finished on 53000/123945 queries. users per second: 2280.13</pre>"
      ],
      "text/plain": [
       "recommendations finished on 53000/123945 queries. users per second: 2280.13"
      ]
     },
     "metadata": {},
     "output_type": "display_data"
    },
    {
     "data": {
      "text/html": [
       "<pre>recommendations finished on 54000/123945 queries. users per second: 2286.29</pre>"
      ],
      "text/plain": [
       "recommendations finished on 54000/123945 queries. users per second: 2286.29"
      ]
     },
     "metadata": {},
     "output_type": "display_data"
    },
    {
     "data": {
      "text/html": [
       "<pre>recommendations finished on 55000/123945 queries. users per second: 2290.57</pre>"
      ],
      "text/plain": [
       "recommendations finished on 55000/123945 queries. users per second: 2290.57"
      ]
     },
     "metadata": {},
     "output_type": "display_data"
    },
    {
     "data": {
      "text/html": [
       "<pre>recommendations finished on 56000/123945 queries. users per second: 2296.62</pre>"
      ],
      "text/plain": [
       "recommendations finished on 56000/123945 queries. users per second: 2296.62"
      ]
     },
     "metadata": {},
     "output_type": "display_data"
    },
    {
     "data": {
      "text/html": [
       "<pre>recommendations finished on 57000/123945 queries. users per second: 2304.69</pre>"
      ],
      "text/plain": [
       "recommendations finished on 57000/123945 queries. users per second: 2304.69"
      ]
     },
     "metadata": {},
     "output_type": "display_data"
    },
    {
     "data": {
      "text/html": [
       "<pre>recommendations finished on 58000/123945 queries. users per second: 2311.97</pre>"
      ],
      "text/plain": [
       "recommendations finished on 58000/123945 queries. users per second: 2311.97"
      ]
     },
     "metadata": {},
     "output_type": "display_data"
    },
    {
     "data": {
      "text/html": [
       "<pre>recommendations finished on 59000/123945 queries. users per second: 2317.78</pre>"
      ],
      "text/plain": [
       "recommendations finished on 59000/123945 queries. users per second: 2317.78"
      ]
     },
     "metadata": {},
     "output_type": "display_data"
    },
    {
     "data": {
      "text/html": [
       "<pre>recommendations finished on 60000/123945 queries. users per second: 2325.43</pre>"
      ],
      "text/plain": [
       "recommendations finished on 60000/123945 queries. users per second: 2325.43"
      ]
     },
     "metadata": {},
     "output_type": "display_data"
    },
    {
     "data": {
      "text/html": [
       "<pre>recommendations finished on 61000/123945 queries. users per second: 2331.69</pre>"
      ],
      "text/plain": [
       "recommendations finished on 61000/123945 queries. users per second: 2331.69"
      ]
     },
     "metadata": {},
     "output_type": "display_data"
    },
    {
     "data": {
      "text/html": [
       "<pre>recommendations finished on 62000/123945 queries. users per second: 2335.42</pre>"
      ],
      "text/plain": [
       "recommendations finished on 62000/123945 queries. users per second: 2335.42"
      ]
     },
     "metadata": {},
     "output_type": "display_data"
    },
    {
     "data": {
      "text/html": [
       "<pre>recommendations finished on 63000/123945 queries. users per second: 2340.99</pre>"
      ],
      "text/plain": [
       "recommendations finished on 63000/123945 queries. users per second: 2340.99"
      ]
     },
     "metadata": {},
     "output_type": "display_data"
    },
    {
     "data": {
      "text/html": [
       "<pre>recommendations finished on 64000/123945 queries. users per second: 2344.72</pre>"
      ],
      "text/plain": [
       "recommendations finished on 64000/123945 queries. users per second: 2344.72"
      ]
     },
     "metadata": {},
     "output_type": "display_data"
    },
    {
     "data": {
      "text/html": [
       "<pre>recommendations finished on 65000/123945 queries. users per second: 2350.82</pre>"
      ],
      "text/plain": [
       "recommendations finished on 65000/123945 queries. users per second: 2350.82"
      ]
     },
     "metadata": {},
     "output_type": "display_data"
    },
    {
     "data": {
      "text/html": [
       "<pre>recommendations finished on 66000/123945 queries. users per second: 2352.01</pre>"
      ],
      "text/plain": [
       "recommendations finished on 66000/123945 queries. users per second: 2352.01"
      ]
     },
     "metadata": {},
     "output_type": "display_data"
    },
    {
     "data": {
      "text/html": [
       "<pre>recommendations finished on 67000/123945 queries. users per second: 2352.82</pre>"
      ],
      "text/plain": [
       "recommendations finished on 67000/123945 queries. users per second: 2352.82"
      ]
     },
     "metadata": {},
     "output_type": "display_data"
    },
    {
     "data": {
      "text/html": [
       "<pre>recommendations finished on 68000/123945 queries. users per second: 2355.02</pre>"
      ],
      "text/plain": [
       "recommendations finished on 68000/123945 queries. users per second: 2355.02"
      ]
     },
     "metadata": {},
     "output_type": "display_data"
    },
    {
     "data": {
      "text/html": [
       "<pre>recommendations finished on 69000/123945 queries. users per second: 2358.59</pre>"
      ],
      "text/plain": [
       "recommendations finished on 69000/123945 queries. users per second: 2358.59"
      ]
     },
     "metadata": {},
     "output_type": "display_data"
    },
    {
     "data": {
      "text/html": [
       "<pre>recommendations finished on 70000/123945 queries. users per second: 2362.45</pre>"
      ],
      "text/plain": [
       "recommendations finished on 70000/123945 queries. users per second: 2362.45"
      ]
     },
     "metadata": {},
     "output_type": "display_data"
    },
    {
     "data": {
      "text/html": [
       "<pre>recommendations finished on 71000/123945 queries. users per second: 2361.63</pre>"
      ],
      "text/plain": [
       "recommendations finished on 71000/123945 queries. users per second: 2361.63"
      ]
     },
     "metadata": {},
     "output_type": "display_data"
    },
    {
     "data": {
      "text/html": [
       "<pre>recommendations finished on 72000/123945 queries. users per second: 2362.88</pre>"
      ],
      "text/plain": [
       "recommendations finished on 72000/123945 queries. users per second: 2362.88"
      ]
     },
     "metadata": {},
     "output_type": "display_data"
    },
    {
     "data": {
      "text/html": [
       "<pre>recommendations finished on 73000/123945 queries. users per second: 2366.56</pre>"
      ],
      "text/plain": [
       "recommendations finished on 73000/123945 queries. users per second: 2366.56"
      ]
     },
     "metadata": {},
     "output_type": "display_data"
    },
    {
     "data": {
      "text/html": [
       "<pre>recommendations finished on 74000/123945 queries. users per second: 2369.49</pre>"
      ],
      "text/plain": [
       "recommendations finished on 74000/123945 queries. users per second: 2369.49"
      ]
     },
     "metadata": {},
     "output_type": "display_data"
    },
    {
     "data": {
      "text/html": [
       "<pre>recommendations finished on 75000/123945 queries. users per second: 2373.89</pre>"
      ],
      "text/plain": [
       "recommendations finished on 75000/123945 queries. users per second: 2373.89"
      ]
     },
     "metadata": {},
     "output_type": "display_data"
    },
    {
     "data": {
      "text/html": [
       "<pre>recommendations finished on 76000/123945 queries. users per second: 2375.08</pre>"
      ],
      "text/plain": [
       "recommendations finished on 76000/123945 queries. users per second: 2375.08"
      ]
     },
     "metadata": {},
     "output_type": "display_data"
    },
    {
     "data": {
      "text/html": [
       "<pre>recommendations finished on 77000/123945 queries. users per second: 2376.87</pre>"
      ],
      "text/plain": [
       "recommendations finished on 77000/123945 queries. users per second: 2376.87"
      ]
     },
     "metadata": {},
     "output_type": "display_data"
    },
    {
     "data": {
      "text/html": [
       "<pre>recommendations finished on 78000/123945 queries. users per second: 2376.56</pre>"
      ],
      "text/plain": [
       "recommendations finished on 78000/123945 queries. users per second: 2376.56"
      ]
     },
     "metadata": {},
     "output_type": "display_data"
    },
    {
     "data": {
      "text/html": [
       "<pre>recommendations finished on 79000/123945 queries. users per second: 2377.97</pre>"
      ],
      "text/plain": [
       "recommendations finished on 79000/123945 queries. users per second: 2377.97"
      ]
     },
     "metadata": {},
     "output_type": "display_data"
    },
    {
     "data": {
      "text/html": [
       "<pre>recommendations finished on 80000/123945 queries. users per second: 2380.79</pre>"
      ],
      "text/plain": [
       "recommendations finished on 80000/123945 queries. users per second: 2380.79"
      ]
     },
     "metadata": {},
     "output_type": "display_data"
    },
    {
     "data": {
      "text/html": [
       "<pre>recommendations finished on 81000/123945 queries. users per second: 2383.71</pre>"
      ],
      "text/plain": [
       "recommendations finished on 81000/123945 queries. users per second: 2383.71"
      ]
     },
     "metadata": {},
     "output_type": "display_data"
    },
    {
     "data": {
      "text/html": [
       "<pre>recommendations finished on 82000/123945 queries. users per second: 2382.58</pre>"
      ],
      "text/plain": [
       "recommendations finished on 82000/123945 queries. users per second: 2382.58"
      ]
     },
     "metadata": {},
     "output_type": "display_data"
    },
    {
     "data": {
      "text/html": [
       "<pre>recommendations finished on 83000/123945 queries. users per second: 2386.04</pre>"
      ],
      "text/plain": [
       "recommendations finished on 83000/123945 queries. users per second: 2386.04"
      ]
     },
     "metadata": {},
     "output_type": "display_data"
    },
    {
     "data": {
      "text/html": [
       "<pre>recommendations finished on 84000/123945 queries. users per second: 2387.92</pre>"
      ],
      "text/plain": [
       "recommendations finished on 84000/123945 queries. users per second: 2387.92"
      ]
     },
     "metadata": {},
     "output_type": "display_data"
    },
    {
     "data": {
      "text/html": [
       "<pre>recommendations finished on 85000/123945 queries. users per second: 2387.66</pre>"
      ],
      "text/plain": [
       "recommendations finished on 85000/123945 queries. users per second: 2387.66"
      ]
     },
     "metadata": {},
     "output_type": "display_data"
    },
    {
     "data": {
      "text/html": [
       "<pre>recommendations finished on 86000/123945 queries. users per second: 2387.08</pre>"
      ],
      "text/plain": [
       "recommendations finished on 86000/123945 queries. users per second: 2387.08"
      ]
     },
     "metadata": {},
     "output_type": "display_data"
    },
    {
     "data": {
      "text/html": [
       "<pre>recommendations finished on 87000/123945 queries. users per second: 2387.08</pre>"
      ],
      "text/plain": [
       "recommendations finished on 87000/123945 queries. users per second: 2387.08"
      ]
     },
     "metadata": {},
     "output_type": "display_data"
    },
    {
     "data": {
      "text/html": [
       "<pre>recommendations finished on 88000/123945 queries. users per second: 2389.64</pre>"
      ],
      "text/plain": [
       "recommendations finished on 88000/123945 queries. users per second: 2389.64"
      ]
     },
     "metadata": {},
     "output_type": "display_data"
    },
    {
     "data": {
      "text/html": [
       "<pre>recommendations finished on 89000/123945 queries. users per second: 2393.67</pre>"
      ],
      "text/plain": [
       "recommendations finished on 89000/123945 queries. users per second: 2393.67"
      ]
     },
     "metadata": {},
     "output_type": "display_data"
    },
    {
     "data": {
      "text/html": [
       "<pre>recommendations finished on 90000/123945 queries. users per second: 2396.7</pre>"
      ],
      "text/plain": [
       "recommendations finished on 90000/123945 queries. users per second: 2396.7"
      ]
     },
     "metadata": {},
     "output_type": "display_data"
    },
    {
     "data": {
      "text/html": [
       "<pre>recommendations finished on 91000/123945 queries. users per second: 2399.23</pre>"
      ],
      "text/plain": [
       "recommendations finished on 91000/123945 queries. users per second: 2399.23"
      ]
     },
     "metadata": {},
     "output_type": "display_data"
    },
    {
     "data": {
      "text/html": [
       "<pre>recommendations finished on 92000/123945 queries. users per second: 2400.31</pre>"
      ],
      "text/plain": [
       "recommendations finished on 92000/123945 queries. users per second: 2400.31"
      ]
     },
     "metadata": {},
     "output_type": "display_data"
    },
    {
     "data": {
      "text/html": [
       "<pre>recommendations finished on 93000/123945 queries. users per second: 2403.4</pre>"
      ],
      "text/plain": [
       "recommendations finished on 93000/123945 queries. users per second: 2403.4"
      ]
     },
     "metadata": {},
     "output_type": "display_data"
    },
    {
     "data": {
      "text/html": [
       "<pre>recommendations finished on 94000/123945 queries. users per second: 2405.94</pre>"
      ],
      "text/plain": [
       "recommendations finished on 94000/123945 queries. users per second: 2405.94"
      ]
     },
     "metadata": {},
     "output_type": "display_data"
    },
    {
     "data": {
      "text/html": [
       "<pre>recommendations finished on 95000/123945 queries. users per second: 2407.34</pre>"
      ],
      "text/plain": [
       "recommendations finished on 95000/123945 queries. users per second: 2407.34"
      ]
     },
     "metadata": {},
     "output_type": "display_data"
    },
    {
     "data": {
      "text/html": [
       "<pre>recommendations finished on 96000/123945 queries. users per second: 2411.28</pre>"
      ],
      "text/plain": [
       "recommendations finished on 96000/123945 queries. users per second: 2411.28"
      ]
     },
     "metadata": {},
     "output_type": "display_data"
    },
    {
     "data": {
      "text/html": [
       "<pre>recommendations finished on 97000/123945 queries. users per second: 2414.2</pre>"
      ],
      "text/plain": [
       "recommendations finished on 97000/123945 queries. users per second: 2414.2"
      ]
     },
     "metadata": {},
     "output_type": "display_data"
    },
    {
     "data": {
      "text/html": [
       "<pre>recommendations finished on 98000/123945 queries. users per second: 2416.78</pre>"
      ],
      "text/plain": [
       "recommendations finished on 98000/123945 queries. users per second: 2416.78"
      ]
     },
     "metadata": {},
     "output_type": "display_data"
    },
    {
     "data": {
      "text/html": [
       "<pre>recommendations finished on 99000/123945 queries. users per second: 2420.71</pre>"
      ],
      "text/plain": [
       "recommendations finished on 99000/123945 queries. users per second: 2420.71"
      ]
     },
     "metadata": {},
     "output_type": "display_data"
    },
    {
     "data": {
      "text/html": [
       "<pre>recommendations finished on 100000/123945 queries. users per second: 2424.14</pre>"
      ],
      "text/plain": [
       "recommendations finished on 100000/123945 queries. users per second: 2424.14"
      ]
     },
     "metadata": {},
     "output_type": "display_data"
    },
    {
     "data": {
      "text/html": [
       "<pre>recommendations finished on 101000/123945 queries. users per second: 2426.72</pre>"
      ],
      "text/plain": [
       "recommendations finished on 101000/123945 queries. users per second: 2426.72"
      ]
     },
     "metadata": {},
     "output_type": "display_data"
    },
    {
     "data": {
      "text/html": [
       "<pre>recommendations finished on 102000/123945 queries. users per second: 2429.47</pre>"
      ],
      "text/plain": [
       "recommendations finished on 102000/123945 queries. users per second: 2429.47"
      ]
     },
     "metadata": {},
     "output_type": "display_data"
    },
    {
     "data": {
      "text/html": [
       "<pre>recommendations finished on 103000/123945 queries. users per second: 2431.98</pre>"
      ],
      "text/plain": [
       "recommendations finished on 103000/123945 queries. users per second: 2431.98"
      ]
     },
     "metadata": {},
     "output_type": "display_data"
    },
    {
     "data": {
      "text/html": [
       "<pre>recommendations finished on 104000/123945 queries. users per second: 2434.78</pre>"
      ],
      "text/plain": [
       "recommendations finished on 104000/123945 queries. users per second: 2434.78"
      ]
     },
     "metadata": {},
     "output_type": "display_data"
    },
    {
     "data": {
      "text/html": [
       "<pre>recommendations finished on 105000/123945 queries. users per second: 2437.27</pre>"
      ],
      "text/plain": [
       "recommendations finished on 105000/123945 queries. users per second: 2437.27"
      ]
     },
     "metadata": {},
     "output_type": "display_data"
    },
    {
     "data": {
      "text/html": [
       "<pre>recommendations finished on 106000/123945 queries. users per second: 2438.99</pre>"
      ],
      "text/plain": [
       "recommendations finished on 106000/123945 queries. users per second: 2438.99"
      ]
     },
     "metadata": {},
     "output_type": "display_data"
    },
    {
     "data": {
      "text/html": [
       "<pre>recommendations finished on 107000/123945 queries. users per second: 2441.87</pre>"
      ],
      "text/plain": [
       "recommendations finished on 107000/123945 queries. users per second: 2441.87"
      ]
     },
     "metadata": {},
     "output_type": "display_data"
    },
    {
     "data": {
      "text/html": [
       "<pre>recommendations finished on 108000/123945 queries. users per second: 2444.14</pre>"
      ],
      "text/plain": [
       "recommendations finished on 108000/123945 queries. users per second: 2444.14"
      ]
     },
     "metadata": {},
     "output_type": "display_data"
    },
    {
     "data": {
      "text/html": [
       "<pre>recommendations finished on 109000/123945 queries. users per second: 2445.29</pre>"
      ],
      "text/plain": [
       "recommendations finished on 109000/123945 queries. users per second: 2445.29"
      ]
     },
     "metadata": {},
     "output_type": "display_data"
    },
    {
     "data": {
      "text/html": [
       "<pre>recommendations finished on 110000/123945 queries. users per second: 2447.48</pre>"
      ],
      "text/plain": [
       "recommendations finished on 110000/123945 queries. users per second: 2447.48"
      ]
     },
     "metadata": {},
     "output_type": "display_data"
    },
    {
     "data": {
      "text/html": [
       "<pre>recommendations finished on 111000/123945 queries. users per second: 2449.42</pre>"
      ],
      "text/plain": [
       "recommendations finished on 111000/123945 queries. users per second: 2449.42"
      ]
     },
     "metadata": {},
     "output_type": "display_data"
    },
    {
     "data": {
      "text/html": [
       "<pre>recommendations finished on 112000/123945 queries. users per second: 2451.42</pre>"
      ],
      "text/plain": [
       "recommendations finished on 112000/123945 queries. users per second: 2451.42"
      ]
     },
     "metadata": {},
     "output_type": "display_data"
    },
    {
     "data": {
      "text/html": [
       "<pre>recommendations finished on 113000/123945 queries. users per second: 2454.06</pre>"
      ],
      "text/plain": [
       "recommendations finished on 113000/123945 queries. users per second: 2454.06"
      ]
     },
     "metadata": {},
     "output_type": "display_data"
    },
    {
     "data": {
      "text/html": [
       "<pre>recommendations finished on 114000/123945 queries. users per second: 2454.27</pre>"
      ],
      "text/plain": [
       "recommendations finished on 114000/123945 queries. users per second: 2454.27"
      ]
     },
     "metadata": {},
     "output_type": "display_data"
    },
    {
     "data": {
      "text/html": [
       "<pre>recommendations finished on 115000/123945 queries. users per second: 2456.15</pre>"
      ],
      "text/plain": [
       "recommendations finished on 115000/123945 queries. users per second: 2456.15"
      ]
     },
     "metadata": {},
     "output_type": "display_data"
    },
    {
     "data": {
      "text/html": [
       "<pre>recommendations finished on 116000/123945 queries. users per second: 2458.19</pre>"
      ],
      "text/plain": [
       "recommendations finished on 116000/123945 queries. users per second: 2458.19"
      ]
     },
     "metadata": {},
     "output_type": "display_data"
    },
    {
     "data": {
      "text/html": [
       "<pre>recommendations finished on 117000/123945 queries. users per second: 2460.18</pre>"
      ],
      "text/plain": [
       "recommendations finished on 117000/123945 queries. users per second: 2460.18"
      ]
     },
     "metadata": {},
     "output_type": "display_data"
    },
    {
     "data": {
      "text/html": [
       "<pre>recommendations finished on 118000/123945 queries. users per second: 2462.04</pre>"
      ],
      "text/plain": [
       "recommendations finished on 118000/123945 queries. users per second: 2462.04"
      ]
     },
     "metadata": {},
     "output_type": "display_data"
    },
    {
     "data": {
      "text/html": [
       "<pre>recommendations finished on 119000/123945 queries. users per second: 2461.61</pre>"
      ],
      "text/plain": [
       "recommendations finished on 119000/123945 queries. users per second: 2461.61"
      ]
     },
     "metadata": {},
     "output_type": "display_data"
    },
    {
     "data": {
      "text/html": [
       "<pre>recommendations finished on 120000/123945 queries. users per second: 2463.45</pre>"
      ],
      "text/plain": [
       "recommendations finished on 120000/123945 queries. users per second: 2463.45"
      ]
     },
     "metadata": {},
     "output_type": "display_data"
    },
    {
     "data": {
      "text/html": [
       "<pre>recommendations finished on 121000/123945 queries. users per second: 2465.4</pre>"
      ],
      "text/plain": [
       "recommendations finished on 121000/123945 queries. users per second: 2465.4"
      ]
     },
     "metadata": {},
     "output_type": "display_data"
    },
    {
     "data": {
      "text/html": [
       "<pre>recommendations finished on 122000/123945 queries. users per second: 2466.23</pre>"
      ],
      "text/plain": [
       "recommendations finished on 122000/123945 queries. users per second: 2466.23"
      ]
     },
     "metadata": {},
     "output_type": "display_data"
    },
    {
     "data": {
      "text/html": [
       "<pre>recommendations finished on 123000/123945 queries. users per second: 2469.15</pre>"
      ],
      "text/plain": [
       "recommendations finished on 123000/123945 queries. users per second: 2469.15"
      ]
     },
     "metadata": {},
     "output_type": "display_data"
    }
   ],
   "source": [
    "view = model.views.overview(validation_set=reviews)\n",
    "view.show()"
   ]
  },
  {
   "cell_type": "markdown",
   "metadata": {},
   "source": [
    "This launches an interactive web-based view for exploring the model. This looks like the following:\n",
    "\n",
    "<img src='explore.png'>"
   ]
  },
  {
   "cell_type": "markdown",
   "metadata": {},
   "source": [
    "We can click on the first link (B003EYVXV4) in the popular items. This will take you to the following page:\n",
    "\n",
    "<img src='focus.png'> "
   ]
  },
  {
   "cell_type": "markdown",
   "metadata": {},
   "source": [
    "As you can see, there is a ranked drop down list of similar items. To make this easier to understand, I will list  the titles of the focus item and top 9 similar items below:\n",
    "\n",
    "Focus item: The Hunger Games\n",
    "\n",
    "Top Similar Items:\n",
    "\n",
    "        1) The avengers\n",
    "        2) Marvel's: The Avengers\n",
    "        3) Prometheus\n",
    "        4) Snow White and the Huntsman\n",
    "        5) The Hobbit: An Unexpected Journey\n",
    "        6) Mission: Impossible Ghost Protocol\n",
    "        7) The Amazing Spider-Man\n",
    "        8) Brave\n",
    "        9) Captain America: The First Avenger\n",
    "\n",
    "This approach allows you to interactively and easily browse through the recommendations, and also gives specific recommendations to particular users based on their previous preferences:\n",
    "\n",
    "<img src='users.png'> "
   ]
  },
  {
   "cell_type": "markdown",
   "metadata": {},
   "source": [
    "## Summary and References\n",
    "\n",
    "As you can see, GraphLab makes it extremely easy and quick to try out different models and approaches. It does most of the heavy duty work behind the scenes, allowing the user to focus on the high level details.  \n",
    "\n",
    "In addition to recommendation engines, GraphLab is extremely useful for data visualization, generating machine learning models, deep learning, feature engineering, working with large datasets and so much more! The following links will be super useful if you want to learn more about graphlab:\n",
    "\n",
    "    1. GraphLab documentation: https://turi.com/products/create/docs/index.html\n",
    "    2. Sample code and more tutorials on GraphLab: https://github.com/turi-code\n",
    "    \n",
    "References:\n",
    "    1. https://www.analyticsvidhya.com/blog/2015/12/started-graphlab-python/\n",
    "    2. https://turi.com/products/create/docs/index.html\n",
    "    3. https://github.com/turi-code"
   ]
  }
 ],
 "metadata": {
  "kernelspec": {
   "display_name": "Python 2",
   "language": "python",
   "name": "python2"
  },
  "language_info": {
   "codemirror_mode": {
    "name": "ipython",
    "version": 2
   },
   "file_extension": ".py",
   "mimetype": "text/x-python",
   "name": "python",
   "nbconvert_exporter": "python",
   "pygments_lexer": "ipython2",
   "version": "2.7.11"
  }
 },
 "nbformat": 4,
 "nbformat_minor": 0
}
